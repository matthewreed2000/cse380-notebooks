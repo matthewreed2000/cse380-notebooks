{
  "nbformat": 4,
  "nbformat_minor": 0,
  "metadata": {
    "colab": {
      "name": "10_4_Expound_On_Topics.ipynb",
      "provenance": [],
      "include_colab_link": true
    },
    "kernelspec": {
      "name": "python3",
      "display_name": "Python 3"
    }
  },
  "cells": [
    {
      "cell_type": "markdown",
      "metadata": {
        "id": "view-in-github",
        "colab_type": "text"
      },
      "source": [
        "<a href=\"https://colab.research.google.com/github/matthewreed2000/cse380-notebooks/blob/master/10_4_Expound_On_Topics.ipynb\" target=\"_parent\"><img src=\"https://colab.research.google.com/assets/colab-badge.svg\" alt=\"Open In Colab\"/></a>"
      ]
    },
    {
      "cell_type": "markdown",
      "metadata": {
        "id": "oJHkJ2xW7fQs"
      },
      "source": [
        "# Expound on Topics\n",
        "## More About Patterns and Probabilities\n",
        "### Wednesday, 10 March 2021\n",
        "\n",
        "*Matthew Reed*\n",
        "\n",
        "In collaboration with:\n",
        "- Collin Dye"
      ]
    },
    {
      "cell_type": "markdown",
      "metadata": {
        "id": "1A-ypGegVqF7"
      },
      "source": [
        "## Solving Recurrences"
      ]
    },
    {
      "cell_type": "markdown",
      "metadata": {
        "id": "6DLWZ6IbrZxo"
      },
      "source": [
        "To emphasize again, the only difference between these two recurrence relations is the initial condition when n = 0:\n",
        "\n",
        "$f(n) = 4f(n-1) - f(n-2)$ for $n > 1$;\n",
        "\n",
        "$f(0) = 1$,\n",
        "\n",
        "$f(1) = 1$.\n",
        "\n",
        "---\n",
        "\n",
        "$g(n) = 4g(n-1) - g(n-2)$ for $n > 1$;\n",
        "\n",
        "$g(0) = 0$,\n",
        "\n",
        "$g(1) = 1$."
      ]
    },
    {
      "cell_type": "markdown",
      "metadata": {
        "id": "dDgCPMTRWusB"
      },
      "source": [
        "### Start Easy"
      ]
    },
    {
      "cell_type": "markdown",
      "metadata": {
        "id": "oamh2AcqWyBQ"
      },
      "source": [
        "Let's start with a relatively simple and well-known recurrence relation.\n",
        "\n",
        "This is an example of a **linear homogeneous** recurrence relation with **constant coefficients**:\n",
        "\n",
        "$F(n) = F(n-1) + F(n-2),$ for $n > 1$;\n",
        "\n",
        "$F(0) = 0,$\n",
        "\n",
        "$F(1) = 1.$"
      ]
    },
    {
      "cell_type": "markdown",
      "metadata": {
        "id": "yVxsJE2tXViH"
      },
      "source": [
        "This, of course, is the famous **Fibonacci** recurrence relation.\n",
        "\n",
        "In closed-form, formulas for linear homogeneous recurrence relations with constant coefficients look like:\n",
        "\n",
        "$y\\cdot r^n + z \\cdot s^n$\n",
        "\n",
        "where $y$, $z$, $r$, and $s$ are real numbers.\n",
        "\n",
        "Assume, for simplicity, that $y = 1$ and $z = 0$.\n",
        "\n",
        "(We'll come back and revise that assumption later.)\n",
        "\n",
        "So $F(n) = r^n$ for some real number $r$. Which one? Let's find out!\n",
        "\n",
        "In the original recurrence, plugging in $r^n$ for $F(n)$, $r^{n-1}$ for $F(n-1)$, and $r^{n-2}$ for $F(n-2)$ yields:\n",
        "\n",
        "$r^n = r^{n-1} + r^{n-2}.$\n",
        "\n",
        "Now divide each term in this equation by $r^{n-2}$, which is the largest term we can divide by without making some term turn into something less than 1. That division gives us:\n",
        "\n",
        "$r^2 = r + 1.$\n",
        "\n",
        "This is a quadratic that can be rewritten like this:\n",
        "\n",
        "$r^2 - r - 1 = 0.$\n",
        "\n",
        "In this form it is called the **characteristic equation** of the recurrence relation.\n",
        "\n",
        "The equation has two roots, which the quadratic formula will give us:"
      ]
    },
    {
      "cell_type": "markdown",
      "metadata": {
        "id": "J2L9Rcbza4y8"
      },
      "source": [
        "#### Root 1"
      ]
    },
    {
      "cell_type": "markdown",
      "metadata": {
        "id": "AACHt_rva6GZ"
      },
      "source": [
        "$r = \\frac{1 + \\sqrt{5}}{2} = \\phi \\approx 1.618$"
      ]
    },
    {
      "cell_type": "markdown",
      "metadata": {
        "id": "UyY-2mp_a8f2"
      },
      "source": [
        "#### Root 2"
      ]
    },
    {
      "cell_type": "markdown",
      "metadata": {
        "id": "xHE1ENZJa923"
      },
      "source": [
        "$s = \\frac{1 - \\sqrt{5}}{2} = (1 - \\phi) \\approx -0.618$"
      ]
    },
    {
      "cell_type": "markdown",
      "metadata": {
        "id": "sSQiWEa_bTFb"
      },
      "source": [
        "#### Almost there!"
      ]
    },
    {
      "cell_type": "markdown",
      "metadata": {
        "id": "DorIfgALbUmS"
      },
      "source": [
        "We finish by solving for $y$ and $z$ given $r$ and $s$ and the original recurrence relation's **initial conditions**:\n",
        "\n",
        "$F(n) = y\\cdot r^n + z\\cdot s^n$ means\n",
        "\n",
        "$F(0) = 0 = y\\cdot r^0 + z\\cdot s^0 = y + z.$\n",
        "\n",
        "So $z = -y$.\n",
        "\n",
        "$F(1) = 1 = y\\cdot r^1 + z\\cdot s^1 = yr + zs.$\n",
        "\n",
        "So $1 = yr - ys = y(r - s).$\n",
        "\n",
        "Therefore,\n",
        "\n",
        "$y = \\frac{1}{r - s}$, and\n",
        "\n",
        "$z = \\frac{-1}{r - s}.$\n",
        "\n",
        "Plugging in $(r - s) = \\sqrt{5}$ (verify this!) we get\n",
        "\n",
        "$y = \\frac{1}{\\sqrt{5}}$\n",
        "\n",
        "$z = \\frac{-1}{\\sqrt{5}}$\n",
        "\n",
        "So $F(n) = \\frac{1}{\\sqrt{5}}\\left(\\frac{1 + \\sqrt{5}}{2}\\right)^n - \\frac{1}{\\sqrt{5}}\\left(\\frac{1 - \\sqrt{5}}{2}\\right)^n$\n",
        "\n",
        ">> $= \\frac{1}{\\sqrt{5}}\\left[\\left(\\frac{1 + \\sqrt{5}}{2}\\right)^n - \\left(\\frac{1 - \\sqrt{5}}{2}\\right)^n\\right]$\n",
        "\n",
        "which is known as **Binet's formula**.\n",
        "\n",
        "With all those $\\sqrt{5}$ appearances, this is a surprising result that somehow yields only whole numbers constituting the Fibonacci sequence --- even though $\\sqrt{5}$ is irrational!"
      ]
    },
    {
      "cell_type": "markdown",
      "metadata": {
        "id": "rkjuyuv3ekmP"
      },
      "source": [
        "### Step It Up"
      ]
    },
    {
      "cell_type": "markdown",
      "metadata": {
        "id": "b_tIi3CEemrL"
      },
      "source": [
        "Perhaps $\\sqrt{3}$ features in the solutions to the ladder-graph spanning-tree recurrences?!"
      ]
    },
    {
      "cell_type": "markdown",
      "metadata": {
        "id": "MiFQCW2yeq4F"
      },
      "source": [
        "#### One Way to Find Out"
      ]
    },
    {
      "cell_type": "markdown",
      "metadata": {
        "id": "0hCzvTS2esiH"
      },
      "source": [
        "Try it!\n",
        "\n",
        "Use the Fibonacci example as a guide.\n",
        "\n",
        "Are $f(n)$ and $g(n)$ linear homogeneous recurrence relations with constant coefficients?\n",
        "\n",
        "What are their characteristic equations?\n",
        "\n",
        "What are $y$, $r$, $z$ and $s$ for each?\n",
        "\n",
        "When you think you have found their closed-form formulas make sure to double-check that they yield the same numbers as the original recurrence relations."
      ]
    },
    {
      "cell_type": "markdown",
      "metadata": {
        "id": "JcU7ks86YL8f"
      },
      "source": [
        "##### Finding $f(n)$"
      ]
    },
    {
      "cell_type": "markdown",
      "metadata": {
        "id": "9R_Y_6XQSY8d"
      },
      "source": [
        "$f(n) = yr^n + zs^n$\n",
        "\n",
        "For simplicity, assume $y=1$ and $z=0$\n",
        "\n",
        "$f(n) = r^n$\n",
        "\n",
        "$r^n = 4r^{n-1} - r^{n-2}$\n",
        "\n",
        "$r^2 = 4r - 1$\n",
        "\n",
        "$r^2 - 4r + 1 = 0$\n",
        "\n",
        "$r = \\frac{4 \\pm \\sqrt{16 - 4}}{2} = \\frac{4 \\pm 2 \\sqrt{3}}{2} = 2 \\pm \\sqrt{3}$\n",
        "\n",
        "Take $r$ to be the positive root and $s$ to be the negative root:\n",
        "\n",
        "$r = 2 + \\sqrt{3}$\n",
        "\n",
        "$s = 2 - \\sqrt{3}$\n",
        "\n",
        "Now, find values for $y$ and $z$:\n",
        "\n",
        "$f(n) = yr^n + zs^n$\n",
        "\n",
        "$f(0) = 1 = yr^0 + zs^0 = y + z$\n",
        "\n",
        "$\\Rightarrow z = 1 - y$\n",
        "\n",
        "$f(1) = 1 = yr^1 + zs^1 = yr + zs = yr + (1 - y)s = s + y(r - s)$\n",
        "\n",
        "$\\Rightarrow y = \\frac{1 - s}{r - s}$\n",
        "\n",
        "$\\Rightarrow z = 1 - \\frac{1 - s}{r - s} = \\frac{r - s - (1 - s)}{r - s} = \\frac{r - 1}{r - s}$\n",
        "\n",
        "$y = \\frac{1 - (2 - \\sqrt{3})}{(2 + \\sqrt{3}) - (2 - \\sqrt{3})} = \\frac{-1 + \\sqrt{3}}{2 \\sqrt{3}} = - \\frac{1 - \\sqrt{3}}{2 \\sqrt{3}}$\n",
        "\n",
        "$z = \\frac{(2 + \\sqrt{3}) - 1}{2 \\sqrt{3}} = \\frac{1 + \\sqrt{3}}{2 \\sqrt{3}}$\n",
        "\n",
        "Plug everything in:\n",
        "\n",
        "$f(n) = - \\frac{1 - \\sqrt{3}}{2 \\sqrt{3}}(2 + \\sqrt{3})^n + \\frac{1 + \\sqrt{3}}{2 \\sqrt{3}}(2 - \\sqrt{3})^n$\n",
        "\n",
        "$= \\frac{(1 + \\sqrt{3})(2 - \\sqrt{3})^n - (1 - \\sqrt{3})(2 + \\sqrt{3})^n}{2 \\sqrt{3}}$"
      ]
    },
    {
      "cell_type": "markdown",
      "metadata": {
        "id": "4d5WjUk7YU0S"
      },
      "source": [
        "##### Finding $g(n)$"
      ]
    },
    {
      "cell_type": "markdown",
      "metadata": {
        "id": "grtEk3WfYU0e"
      },
      "source": [
        "$g(n) = yr^n + zs^n$\n",
        "\n",
        "For simplicity, assume $y=1$ and $z=0$\n",
        "\n",
        "$g(n) = r^n$\n",
        "\n",
        "$r^n = 4r^{n-1} - r^{n-2}$\n",
        "\n",
        "$r^2 = 4r - 1$\n",
        "\n",
        "$r^2 - 4r + 1 = 0$\n",
        "\n",
        "$r = \\frac{4 \\pm \\sqrt{16 - 4}}{2} = \\frac{4 \\pm 2 \\sqrt{3}}{2} = 2 \\pm \\sqrt{3}$\n",
        "\n",
        "Take $r$ to be the positive root and $s$ to be the negative root:\n",
        "\n",
        "$r = 2 + \\sqrt{3}$\n",
        "\n",
        "$s = 2 - \\sqrt{3}$\n",
        "\n",
        "Now, find values for $y$ and $z$:\n",
        "\n",
        "$g(n) = yr^n + zs^n$\n",
        "\n",
        "$g(0) = 0 = yr^0 + zs^0 = y + z$\n",
        "\n",
        "$\\Rightarrow z = -y$\n",
        "\n",
        "$g(1) = 1 = yr^1 + zs^1 = yr + zs = yr + (-y)s = y(r - s)$\n",
        "\n",
        "$\\Rightarrow y = \\frac{1}{r - s}$\n",
        "\n",
        "$\\Rightarrow z = - \\frac{1}{r - s}$\n",
        "\n",
        "$y = \\frac{1}{(2 + \\sqrt{3}) - (2 - \\sqrt{3})} = \\frac{1}{2 \\sqrt{3}}$\n",
        "\n",
        "$z = \\frac{-1}{2 \\sqrt{3}}$\n",
        "\n",
        "Plug everything in:\n",
        "\n",
        "$g(n) = \\frac{1}{2 \\sqrt{3}}(2 + \\sqrt{3})^n - \\frac{1}{2 \\sqrt{3}}(2 - \\sqrt{3})^n$\n",
        "\n",
        "$= \\frac{(2 + \\sqrt{3})^n - (2 - \\sqrt{3})^n}{2 \\sqrt{3}}$"
      ]
    },
    {
      "cell_type": "markdown",
      "metadata": {
        "id": "3eUFXa0Ebp7m"
      },
      "source": [
        "##### Verify"
      ]
    },
    {
      "cell_type": "code",
      "metadata": {
        "id": "FlQMOR71brD5"
      },
      "source": [
        "from math import sqrt\n",
        "def f_rec(n):\n",
        "  if n == 0:\n",
        "    return 1\n",
        "  if n == 1:\n",
        "    return 1\n",
        "  if n > 1:\n",
        "    return 4 * f_rec(n - 1) - f_rec(n - 2)\n",
        "\n",
        "def g_rec(n):\n",
        "  if n == 0:\n",
        "    return 0\n",
        "  if n == 1:\n",
        "    return 1\n",
        "  if n > 1:\n",
        "    return 4 * g_rec(n - 1) - g_rec(n - 2)\n",
        "\n",
        "# I round because of floating-point errors\n",
        "f_closed = lambda n: round(((1 + sqrt(3))*((2 - sqrt(3)) ** n) - (1 - sqrt(3))*((2 + sqrt(3)) ** n)) / (2 * sqrt(3)))\n",
        "g_closed = lambda n: round((((2 + sqrt(3)) ** n) - ((2 - sqrt(3)) ** n)) / (2 * sqrt(3)))"
      ],
      "execution_count": 27,
      "outputs": []
    },
    {
      "cell_type": "code",
      "metadata": {
        "id": "lh_oFwU4caGQ",
        "outputId": "f42ad6ab-b468-4622-aca6-166f72e0831e",
        "colab": {
          "base_uri": "https://localhost:8080/"
        }
      },
      "source": [
        "for n in range(10):\n",
        "  f1 = f_rec(n)\n",
        "  f2 = f_closed(n)\n",
        "  g1 = g_rec(n)\n",
        "  g2 = g_closed(n)\n",
        "  print(f'f({n}): {f1}=={f2}: {f1 == f2}')\n",
        "  print(f'g({n}): {g1}=={g2}: {g1 == g2}')"
      ],
      "execution_count": 28,
      "outputs": [
        {
          "output_type": "stream",
          "text": [
            "f(0): 1==1: True\n",
            "g(0): 0==0: True\n",
            "f(1): 1==1: True\n",
            "g(1): 1==1: True\n",
            "f(2): 3==3: True\n",
            "g(2): 4==4: True\n",
            "f(3): 11==11: True\n",
            "g(3): 15==15: True\n",
            "f(4): 41==41: True\n",
            "g(4): 56==56: True\n",
            "f(5): 153==153: True\n",
            "g(5): 209==209: True\n",
            "f(6): 571==571: True\n",
            "g(6): 780==780: True\n",
            "f(7): 2131==2131: True\n",
            "g(7): 2911==2911: True\n",
            "f(8): 7953==7953: True\n",
            "g(8): 10864==10864: True\n",
            "f(9): 29681==29681: True\n",
            "g(9): 40545==40545: True\n"
          ],
          "name": "stdout"
        }
      ]
    }
  ]
}