{
  "nbformat": 4,
  "nbformat_minor": 0,
  "metadata": {
    "colab": {
      "name": "09_1_About_Huffman_Trees_and_Codes.ipynb",
      "provenance": [],
      "collapsed_sections": []
    },
    "kernelspec": {
      "name": "python3",
      "display_name": "Python 3"
    }
  },
  "cells": [
    {
      "cell_type": "markdown",
      "metadata": {
        "id": "VPy5vbgRQBMQ"
      },
      "source": [
        "# About Huffman Trees and Codes\n",
        "## Divide Pair Conquer\n",
        "### Due: Monday, 1 March 2021, 11:59 pm\n",
        "\n",
        "*Matthew Reed*\n",
        "\n",
        "In collaboration with:\n",
        "- Bretton Steiner\n",
        "(I'm pretty sure this is right, but I forgot to write this down)"
      ]
    },
    {
      "cell_type": "markdown",
      "metadata": {
        "id": "sgaSqpkyQMwl"
      },
      "source": [
        "## Goal"
      ]
    },
    {
      "cell_type": "markdown",
      "metadata": {
        "id": "_YpNGyjWQbVx"
      },
      "source": [
        "Review Huffman Trees and Codes from DM1 to get ready for your Ponder and Prove assignment."
      ]
    },
    {
      "cell_type": "code",
      "metadata": {
        "id": "7C-ClNTHQkFw",
        "colab": {
          "base_uri": "https://localhost:8080/"
        },
        "outputId": "0ddb691c-c237-4200-d4f6-a68a96ba6b48"
      },
      "source": [
        "from math import ceil, log\n",
        "from collections import Counter\n",
        "\n",
        "def show_results(message, code_tuples):\n",
        "  total_characters = len(message)\n",
        "  total_unique_characters = len(code_tuples)\n",
        "  total_bits = 0\n",
        "  for char, count, code in code_tuples:\n",
        "    total_bits += count * len(code)\n",
        "  average_bits_per_character = total_bits / total_characters\n",
        "  fixed_bits_per_character = ceil(log(total_unique_characters, 2))\n",
        "  total_fixed_bits = total_characters * fixed_bits_per_character\n",
        "  compression_ratio = (total_fixed_bits - total_bits) / total_fixed_bits\n",
        "  print(f'          Total Characters: {total_characters}')\n",
        "  print(f'   Total Unique Characters: {total_unique_characters}')\n",
        "  print(f'                Total Bits: {total_bits}')\n",
        "  print(f'Average Bits per Character: {average_bits_per_character:.2f}')\n",
        "  print(f'  Fixed Bits per Character: {fixed_bits_per_character}')\n",
        "  print(f'          Total Fixed Bits: {total_fixed_bits}')\n",
        "  print(f'         Compression Ratio: {compression_ratio:.3f}')\n",
        "\n",
        "message1 = 'thebookofmormon'\n",
        "counter1 = Counter(message1)\n",
        "\n",
        "print(message1, '-->', counter1)\n",
        "\n",
        "message2 = 'therestoration'\n",
        "\n",
        "counter2 = Counter(message2)\n",
        "\n",
        "print(message2, '-->', counter2)"
      ],
      "execution_count": 1,
      "outputs": [
        {
          "output_type": "stream",
          "text": [
            "thebookofmormon --> Counter({'o': 5, 'm': 2, 't': 1, 'h': 1, 'e': 1, 'b': 1, 'k': 1, 'f': 1, 'r': 1, 'n': 1})\n",
            "therestoration --> Counter({'t': 3, 'e': 2, 'r': 2, 'o': 2, 'h': 1, 's': 1, 'a': 1, 'i': 1, 'n': 1})\n"
          ],
          "name": "stdout"
        }
      ]
    },
    {
      "cell_type": "markdown",
      "metadata": {
        "id": "YnsvrdQkRZIP"
      },
      "source": [
        "### Which message has the lower compression ratio?"
      ]
    },
    {
      "cell_type": "markdown",
      "metadata": {
        "id": "ZQZ9qfo-RgDB"
      },
      "source": [
        "#### Message 1"
      ]
    },
    {
      "cell_type": "markdown",
      "metadata": {
        "id": "66pMEoO_Rkb3"
      },
      "source": [
        "Do all the steps, like the examples in the book, first sorting the counted occurrences:\n",
        "\n",
        "| Char | # |\n",
        "|------|---|\n",
        "|   b  | 1 |\n",
        "|   e  | 1 |\n",
        "|   f  | 1 |\n",
        "|   h  | 1 |\n",
        "|   k  | 1 |\n",
        "|   n  | 1 |\n",
        "|   r  | 1 |\n",
        "|   t  | 1 |\n",
        "|   m  | 2 |\n",
        "|   o  | 5 |"
      ]
    },
    {
      "cell_type": "markdown",
      "metadata": {
        "id": "Sf-Wc2SvSMvh"
      },
      "source": [
        "##### The ever-shrinking queue:"
      ]
    },
    {
      "cell_type": "markdown",
      "metadata": {
        "id": "1NVAHiTySQUZ"
      },
      "source": [
        "* b1 e1 f1 h1 k1 n1 r1 t1 m2 o5\n",
        "* f1 h1 k1 n1 r1 t1 m2 be2 o5\n",
        "* k1 n1 r1 t1 m2 be2 fh2 o5\n",
        "* r1 t1 m2 be2 fh2 kn2 o5\n",
        "* m2 be2 fh2 kn2 rt2 o5\n",
        "* fh2 kn2 rt2 mbe4 o5\n",
        "* rt2 meb4 fhkn4 o5\n",
        "* fhkn4 o5 rtmeb6\n",
        "* rtmbe6 fhkno9\n",
        "* rtmbefhkno15"
      ]
    },
    {
      "cell_type": "markdown",
      "metadata": {
        "id": "FQ542b55SnRo"
      },
      "source": [
        "##### The Huffman Tree:"
      ]
    },
    {
      "cell_type": "code",
      "metadata": {
        "id": "JEatqgo2S2GS",
        "colab": {
          "base_uri": "https://localhost:8080/",
          "height": 52
        },
        "outputId": "36050dc2-a344-44fa-8c5c-166233c4432f"
      },
      "source": [
        "'''\n",
        "       rtmbefhkno15\n",
        "         /        \\\n",
        "     rtmbe6      fhkno9\n",
        "     /   \\        /    \\\n",
        "  rt2   mbe4   fhkn4   o5\n",
        "  /\\    / \\     /   \\\n",
        "r1 t1 m2 be2  fh2   kn2\n",
        "         / \\  / \\   / \\\n",
        "       b1 e1 f1 h1 k1 n1\n",
        "'''"
      ],
      "execution_count": 2,
      "outputs": [
        {
          "output_type": "execute_result",
          "data": {
            "application/vnd.google.colaboratory.intrinsic+json": {
              "type": "string"
            },
            "text/plain": [
              "'\\n       rtmbefhkno15\\n         /             rtmbe6      fhkno9\\n     /   \\\\        /      rt2   mbe4   fhkn4   o5\\n  /\\\\    / \\\\     /   r1 t1 m2 be2  fh2   kn2\\n         / \\\\  / \\\\   /        b1 e1 f1 h1 k1 n1\\n'"
            ]
          },
          "metadata": {
            "tags": []
          },
          "execution_count": 2
        }
      ]
    },
    {
      "cell_type": "markdown",
      "metadata": {
        "id": "Zz3k9BfdSqMh"
      },
      "source": [
        "##### The Code Tuples"
      ]
    },
    {
      "cell_type": "markdown",
      "metadata": {
        "id": "k8NwLvJzTzOd"
      },
      "source": [
        "Read the codes from the tree:"
      ]
    },
    {
      "cell_type": "code",
      "metadata": {
        "colab": {
          "base_uri": "https://localhost:8080/"
        },
        "id": "7dT6TB3MS7wY",
        "outputId": "8cc16c32-2523-45f4-86a2-3ea01abeb03f"
      },
      "source": [
        "message1_code_tuples = \\\n",
        "[('b', 1, '0110'),\n",
        " ('e', 1, '0111'),\n",
        " ('f', 1, '1000'),\n",
        " ('h', 1, '1001'),\n",
        " ('k', 1, '1010'),\n",
        " ('m', 2, '010'),\n",
        " ('n', 1, '1011'),\n",
        " ('o', 5, '11'),\n",
        " ('r', 1, '000'),\n",
        " ('t', 1, '001'),\n",
        "]\n",
        "\n",
        "show_results(message1, message1_code_tuples)"
      ],
      "execution_count": 3,
      "outputs": [
        {
          "output_type": "stream",
          "text": [
            "          Total Characters: 15\n",
            "   Total Unique Characters: 10\n",
            "                Total Bits: 46\n",
            "Average Bits per Character: 3.07\n",
            "  Fixed Bits per Character: 4\n",
            "          Total Fixed Bits: 60\n",
            "         Compression Ratio: 0.233\n"
          ],
          "name": "stdout"
        }
      ]
    },
    {
      "cell_type": "markdown",
      "metadata": {
        "id": "EekOyNAyVbY3"
      },
      "source": [
        "#### Message 2"
      ]
    },
    {
      "cell_type": "markdown",
      "metadata": {
        "id": "5ktqJRmOVbY3"
      },
      "source": [
        "Do all the steps, like the examples in the book, first sorting the counted occurrences:\n",
        "\n",
        "| Char | # |\n",
        "|------|---|\n",
        "|   a  | 1 |\n",
        "|   h  | 1 |\n",
        "|   i  | 1 |\n",
        "|   n  | 1 |\n",
        "|   s  | 1 |\n",
        "|   e  | 2 |\n",
        "|   o  | 2 |\n",
        "|   r  | 2 |\n",
        "|   t  | 3 |"
      ]
    },
    {
      "cell_type": "markdown",
      "metadata": {
        "id": "BjOIgAZZVbY4"
      },
      "source": [
        "##### The ever-shrinking queue:"
      ]
    },
    {
      "cell_type": "markdown",
      "metadata": {
        "id": "LEVjSFE9VbY4"
      },
      "source": [
        "* a1 h1 i1 n1 s1 e2 o2 r2 t3\n",
        "* i1 n1 s1 e2 o2 r2 ah2 t3\n",
        "* s1 e2 o2 r2 ah2 in2 t3\n",
        "* o2 r2 ah2 in2 t3 se3\n",
        "* ah2 in2 t3 se3 or4\n",
        "* t3 se3 or4 ahin4\n",
        "* or4 ahin4 tse6\n",
        "* tse6 orahin8\n",
        "* tseorahin14"
      ]
    },
    {
      "cell_type": "markdown",
      "metadata": {
        "id": "ZeozgfOLVbY4"
      },
      "source": [
        "##### The Huffman Tree:"
      ]
    },
    {
      "cell_type": "code",
      "metadata": {
        "id": "-2FB2vHtVbY4",
        "colab": {
          "base_uri": "https://localhost:8080/",
          "height": 35
        },
        "outputId": "6ceeff41-4336-411a-bdf9-87602316d854"
      },
      "source": [
        "'''\n",
        "    tseorahin14\n",
        "    /        \\\n",
        " tse6     orahin8\n",
        "  / \\      /    \\\n",
        "t3 se3   or4   ahin4\n",
        "   / \\   / \\    /   \\\n",
        "  s1 e2 o2 r2 ah2   in2\n",
        "              / \\   / \\\n",
        "             a1 h1 i1 n1\n",
        "'''"
      ],
      "execution_count": 4,
      "outputs": [
        {
          "output_type": "execute_result",
          "data": {
            "application/vnd.google.colaboratory.intrinsic+json": {
              "type": "string"
            },
            "text/plain": [
              "'\\n    tseorahin14\\n    /         tse6     orahin8\\n  / \\\\      /    t3 se3   or4   ahin4\\n   / \\\\   / \\\\    /     s1 e2 o2 r2 ah2   in2\\n              / \\\\   /              a1 h1 i1 n1\\n'"
            ]
          },
          "metadata": {
            "tags": []
          },
          "execution_count": 4
        }
      ]
    },
    {
      "cell_type": "markdown",
      "metadata": {
        "id": "Weh87t4iVbY6"
      },
      "source": [
        "##### The Code Tuples"
      ]
    },
    {
      "cell_type": "markdown",
      "metadata": {
        "id": "-uihVyZuVbY6"
      },
      "source": [
        "Read the codes from the tree:"
      ]
    },
    {
      "cell_type": "code",
      "metadata": {
        "id": "3J20ht-dVbY6",
        "colab": {
          "base_uri": "https://localhost:8080/"
        },
        "outputId": "5eda91cd-2dc2-4868-a632-d20772c95c8c"
      },
      "source": [
        "message2_code_tuples = \\\n",
        "[('a', 1, '1100'),\n",
        " ('e', 2, '011'),\n",
        " ('h', 1, '1101'),\n",
        " ('i', 1, '1110'),\n",
        " ('n', 1, '1111'),\n",
        " ('o', 2, '100'),\n",
        " ('r', 2, '101'),\n",
        " ('s', 1, '010'),\n",
        " ('t', 3, '00'),\n",
        "]\n",
        "\n",
        "show_results(message2, message2_code_tuples)"
      ],
      "execution_count": 5,
      "outputs": [
        {
          "output_type": "stream",
          "text": [
            "          Total Characters: 14\n",
            "   Total Unique Characters: 9\n",
            "                Total Bits: 43\n",
            "Average Bits per Character: 3.07\n",
            "  Fixed Bits per Character: 4\n",
            "          Total Fixed Bits: 56\n",
            "         Compression Ratio: 0.232\n"
          ],
          "name": "stdout"
        }
      ]
    },
    {
      "cell_type": "markdown",
      "metadata": {
        "id": "iNVsz1Pixjxg"
      },
      "source": [
        "### Create Data Tree and Code"
      ]
    },
    {
      "cell_type": "markdown",
      "metadata": {
        "id": "5HGwfaArxmyg"
      },
      "source": [
        "More warmup for your Ponder and Prove assignment this week:\n",
        "\n",
        "Create a Huffman Tree and codes for the gaps between the first few prime (except for the gap of size 1 between 2 and 3). Your goal is to find how many is \"few\" enough to have a compression ratio **better than 24%**.\n"
      ]
    },
    {
      "cell_type": "markdown",
      "metadata": {
        "id": "rkPpv56cEiai"
      },
      "source": [
        "### Gaining Understanding / Setting Things Up"
      ]
    },
    {
      "cell_type": "code",
      "metadata": {
        "colab": {
          "base_uri": "https://localhost:8080/"
        },
        "id": "7TBjHxPqx9WI",
        "outputId": "47cf04b3-8d53-4832-8736-8a684dcb7d60"
      },
      "source": [
        "from sympy import primerange\n",
        "\n",
        "list_of_gaps = []\n",
        "prev = 3\n",
        "gap = 0\n",
        "for prime in list(primerange(4, 201)):\n",
        "    gap = prime - prev\n",
        "    #print(gap)\n",
        "    prev = prime\n",
        "    list_of_gaps.append(gap)\n",
        "\n",
        "print(list_of_gaps)"
      ],
      "execution_count": 6,
      "outputs": [
        {
          "output_type": "stream",
          "text": [
            "[2, 2, 4, 2, 4, 2, 4, 6, 2, 6, 4, 2, 4, 6, 6, 2, 6, 4, 2, 6, 4, 6, 8, 4, 2, 4, 2, 4, 14, 4, 6, 2, 10, 2, 6, 6, 4, 6, 6, 2, 10, 2, 4, 2]\n"
          ],
          "name": "stdout"
        }
      ]
    },
    {
      "cell_type": "code",
      "metadata": {
        "colab": {
          "base_uri": "https://localhost:8080/"
        },
        "id": "-cBPpB8V3fPh",
        "outputId": "7ec1a09b-5d46-48b0-d58e-ac234584a5a0"
      },
      "source": [
        "# https://stackoverflow.com/questions/2600191/how-can-i-count-the-occurrences-of-a-list-item\n",
        "gap_count = [[list_of_gaps.count(x),x] for x in set(list_of_gaps)]\n",
        "gap_count"
      ],
      "execution_count": 7,
      "outputs": [
        {
          "output_type": "execute_result",
          "data": {
            "text/plain": [
              "[[15, 2], [13, 4], [12, 6], [1, 8], [2, 10], [1, 14]]"
            ]
          },
          "metadata": {
            "tags": []
          },
          "execution_count": 7
        }
      ]
    },
    {
      "cell_type": "code",
      "metadata": {
        "colab": {
          "base_uri": "https://localhost:8080/"
        },
        "id": "rvG1E-Pw4Owc",
        "outputId": "0282d8d1-df43-4f53-83e3-69242064d336"
      },
      "source": [
        "gap_count.sort(key=lambda x: x[0])\n",
        "gap_count"
      ],
      "execution_count": 8,
      "outputs": [
        {
          "output_type": "execute_result",
          "data": {
            "text/plain": [
              "[[1, 8], [1, 14], [2, 10], [12, 6], [13, 4], [15, 2]]"
            ]
          },
          "metadata": {
            "tags": []
          },
          "execution_count": 8
        }
      ]
    },
    {
      "cell_type": "code",
      "metadata": {
        "id": "zDsCYlER479N"
      },
      "source": [
        "def es_queue(l):\n",
        "  l.sort(key=lambda x: x[0])\n",
        "  if len(l) == 1:\n",
        "    return l[0]\n",
        "  else:\n",
        "    return es_queue([[l[0][0] + l[1][0], [l[0],l[1]]]] + l[2:])\n",
        "\n",
        "tree = es_queue(gap_count)"
      ],
      "execution_count": 9,
      "outputs": []
    },
    {
      "cell_type": "code",
      "metadata": {
        "id": "PDhF-cOa7DO-"
      },
      "source": [
        "def get_tuples(l, path=''):\n",
        "  # global gap_tuples\n",
        "  # print(l, path)\n",
        "  tuples = []\n",
        "  if type(l[1]) is list:\n",
        "    tuples = tuples + get_tuples(l[1][0], path+'0')\n",
        "    tuples = tuples + get_tuples(l[1][1], path+'1')\n",
        "    return tuples\n",
        "  else:\n",
        "    return [(l[1], l[0], path)]"
      ],
      "execution_count": 10,
      "outputs": []
    },
    {
      "cell_type": "code",
      "metadata": {
        "colab": {
          "base_uri": "https://localhost:8080/"
        },
        "id": "0aM__FTD9ZFn",
        "outputId": "4db00bbf-36f5-4bd5-8bd5-8e5a6e97a0bb"
      },
      "source": [
        "gap_tuples = get_tuples(tree)\n",
        "gap_tuples"
      ],
      "execution_count": 11,
      "outputs": [
        {
          "output_type": "execute_result",
          "data": {
            "text/plain": [
              "[(8, 1, '0000'),\n",
              " (14, 1, '0001'),\n",
              " (10, 2, '001'),\n",
              " (6, 12, '01'),\n",
              " (4, 13, '10'),\n",
              " (2, 15, '11')]"
            ]
          },
          "metadata": {
            "tags": []
          },
          "execution_count": 11
        }
      ]
    },
    {
      "cell_type": "code",
      "metadata": {
        "colab": {
          "base_uri": "https://localhost:8080/"
        },
        "id": "a9sMAlmW9hOK",
        "outputId": "4f6c2aed-cfb7-4276-ac85-d49b21b9aa8f"
      },
      "source": [
        "show_results(list_of_gaps, gap_tuples)"
      ],
      "execution_count": 12,
      "outputs": [
        {
          "output_type": "stream",
          "text": [
            "          Total Characters: 44\n",
            "   Total Unique Characters: 6\n",
            "                Total Bits: 94\n",
            "Average Bits per Character: 2.14\n",
            "  Fixed Bits per Character: 3\n",
            "          Total Fixed Bits: 132\n",
            "         Compression Ratio: 0.288\n"
          ],
          "name": "stdout"
        }
      ]
    },
    {
      "cell_type": "code",
      "metadata": {
        "colab": {
          "base_uri": "https://localhost:8080/",
          "height": 35
        },
        "id": "QmUXQWbEB0Cs",
        "outputId": "c6b2fe0a-c974-440d-b63c-b43623180c1f"
      },
      "source": [
        "str_bits = ''.join([{x[0]:x[2] for x in gap_tuples}[y] for y in list_of_gaps])\n",
        "str_bits"
      ],
      "execution_count": 13,
      "outputs": [
        {
          "output_type": "execute_result",
          "data": {
            "application/vnd.google.colaboratory.intrinsic+json": {
              "type": "string"
            },
            "text/plain": [
              "'1111101110111001110110111001011101101101100100001011101110000110011100111010110010111001111011'"
            ]
          },
          "metadata": {
            "tags": []
          },
          "execution_count": 13
        }
      ]
    },
    {
      "cell_type": "code",
      "metadata": {
        "colab": {
          "base_uri": "https://localhost:8080/"
        },
        "id": "b9gfD2enCgU0",
        "outputId": "f0f05304-21a9-4111-8845-928d50f922c2"
      },
      "source": [
        "len(str_bits)"
      ],
      "execution_count": 14,
      "outputs": [
        {
          "output_type": "execute_result",
          "data": {
            "text/plain": [
              "94"
            ]
          },
          "metadata": {
            "tags": []
          },
          "execution_count": 14
        }
      ]
    },
    {
      "cell_type": "markdown",
      "metadata": {
        "id": "t4ev0uX3Eqs5"
      },
      "source": [
        "### Get the Number"
      ]
    },
    {
      "cell_type": "code",
      "metadata": {
        "id": "Gs62HCa7DWM_"
      },
      "source": [
        "def test_compression_on_range(max_prime):\n",
        "  # Generate List of Gaps\n",
        "  list_of_gaps = []\n",
        "  prev = 3\n",
        "  gap = 0\n",
        "  for prime in list(primerange(4, max_prime + 1)):\n",
        "      gap = prime - prev\n",
        "      #print(gap)\n",
        "      prev = prime\n",
        "      list_of_gaps.append(gap)\n",
        "\n",
        "  # Get Tree\n",
        "  gap_count = [[list_of_gaps.count(x),x] for x in set(list_of_gaps)]\n",
        "  tree = es_queue(gap_count)\n",
        "  gap_tuples = get_tuples(tree)\n",
        "\n",
        "  # Get Ratio\n",
        "  total_characters = len(list_of_gaps)\n",
        "  total_unique_characters = len(gap_tuples)\n",
        "  total_bits = 0\n",
        "  for char, count, code in gap_tuples:\n",
        "    total_bits += count * len(code)\n",
        "  average_bits_per_character = total_bits / total_characters\n",
        "  fixed_bits_per_character = ceil(log(total_unique_characters, 2))\n",
        "  total_fixed_bits = total_characters * fixed_bits_per_character\n",
        "  compression_ratio = (total_fixed_bits - total_bits) / total_fixed_bits\n",
        "\n",
        "  return compression_ratio"
      ],
      "execution_count": 15,
      "outputs": []
    },
    {
      "cell_type": "code",
      "metadata": {
        "colab": {
          "base_uri": "https://localhost:8080/"
        },
        "id": "Q7OaeH7fHtri",
        "outputId": "fe47ce2c-979a-4504-9ac1-a8aaa4f0f6c6"
      },
      "source": [
        "for i in list(primerange(8, 201)):\n",
        "  compression = test_compression_on_range(i)\n",
        "  if compression >= 0.24:\n",
        "    print(f'i={i}, compression={compression:.3f}')\n",
        "    break"
      ],
      "execution_count": 16,
      "outputs": [
        {
          "output_type": "stream",
          "text": [
            "i=29, compression=0.250\n"
          ],
          "name": "stdout"
        }
      ]
    },
    {
      "cell_type": "code",
      "metadata": {
        "colab": {
          "base_uri": "https://localhost:8080/"
        },
        "id": "pwDJJf0GJQ0l",
        "outputId": "78dfce31-0f1c-4077-c16b-f23dd2e42f0f"
      },
      "source": [
        "for i in list(primerange(8, 301)):\n",
        "  compression = test_compression_on_range(i)\n",
        "  if compression < 0.24:\n",
        "    print('---', end='')\n",
        "  print(f'i={i}, compression={compression:.3f}')"
      ],
      "execution_count": 18,
      "outputs": [
        {
          "output_type": "stream",
          "text": [
            "---i=11, compression=0.000\n",
            "---i=13, compression=0.000\n",
            "---i=17, compression=0.000\n",
            "---i=19, compression=0.000\n",
            "---i=23, compression=0.000\n",
            "i=29, compression=0.250\n",
            "i=31, compression=0.278\n",
            "i=37, compression=0.250\n",
            "---i=41, compression=0.227\n",
            "i=43, compression=0.250\n",
            "---i=47, compression=0.231\n",
            "---i=53, compression=0.214\n",
            "---i=59, compression=0.200\n",
            "---i=61, compression=0.219\n",
            "---i=67, compression=0.206\n",
            "---i=71, compression=0.194\n",
            "---i=73, compression=0.211\n",
            "---i=79, compression=0.200\n",
            "---i=83, compression=0.190\n",
            "---i=89, compression=0.182\n",
            "---i=97, compression=0.000\n",
            "---i=101, compression=0.000\n",
            "---i=103, compression=0.020\n",
            "---i=107, compression=0.019\n",
            "---i=109, compression=0.037\n",
            "---i=113, compression=0.036\n",
            "i=127, compression=0.322\n",
            "i=131, compression=0.333\n",
            "i=137, compression=0.323\n",
            "i=139, compression=0.323\n",
            "i=149, compression=0.283\n",
            "i=151, compression=0.294\n",
            "i=157, compression=0.286\n",
            "i=163, compression=0.287\n",
            "i=167, compression=0.288\n",
            "i=173, compression=0.289\n",
            "i=179, compression=0.291\n",
            "i=181, compression=0.292\n",
            "i=191, compression=0.285\n",
            "i=193, compression=0.286\n",
            "i=197, compression=0.287\n",
            "i=199, compression=0.288\n",
            "i=211, compression=0.259\n",
            "i=223, compression=0.246\n",
            "i=227, compression=0.248\n",
            "i=229, compression=0.250\n",
            "i=233, compression=0.252\n",
            "i=239, compression=0.253\n",
            "i=241, compression=0.255\n",
            "i=251, compression=0.250\n",
            "i=257, compression=0.252\n",
            "i=263, compression=0.253\n",
            "i=269, compression=0.255\n",
            "i=271, compression=0.256\n",
            "i=277, compression=0.257\n",
            "i=281, compression=0.259\n",
            "i=283, compression=0.260\n",
            "i=293, compression=0.256\n"
          ],
          "name": "stdout"
        }
      ]
    },
    {
      "cell_type": "markdown",
      "metadata": {
        "id": "norIs9uYKZNI"
      },
      "source": [
        "29 is the smallest prime that has a compression ratio of at least 24%. **127** is the prime for which the compression ratio for primes equal to and above it is at least 24%."
      ]
    },
    {
      "cell_type": "code",
      "metadata": {
        "id": "ai5Ja8eCLrid"
      },
      "source": [
        ""
      ],
      "execution_count": null,
      "outputs": []
    }
  ]
}