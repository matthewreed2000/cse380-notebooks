{
  "nbformat": 4,
  "nbformat_minor": 0,
  "metadata": {
    "kernelspec": {
      "display_name": "Python 3",
      "language": "python",
      "name": "python3"
    },
    "language_info": {
      "codemirror_mode": {
        "name": "ipython",
        "version": 3
      },
      "file_extension": ".py",
      "mimetype": "text/x-python",
      "name": "python",
      "nbconvert_exporter": "python",
      "pygments_lexer": "ipython3",
      "version": "3.9.0"
    },
    "colab": {
      "name": "07_2_Ponder_and_Prove_Elementary_Number_Theory.ipynb",
      "provenance": [],
      "include_colab_link": true
    }
  },
  "cells": [
    {
      "cell_type": "markdown",
      "metadata": {
        "id": "view-in-github",
        "colab_type": "text"
      },
      "source": [
        "<a href=\"https://colab.research.google.com/github/matthewreed2000/cse380-notebooks/blob/master/07_2_Ponder_and_Prove_Elementary_Number_Theory.ipynb\" target=\"_parent\"><img src=\"https://colab.research.google.com/assets/colab-badge.svg\" alt=\"Open In Colab\"/></a>"
      ]
    },
    {
      "cell_type": "markdown",
      "metadata": {
        "id": "1rG4k7VvQ2WT"
      },
      "source": [
        "# Ponder and Prove Elementary Number Theory\n",
        "#### Due: Saturday, 20 February 2021, 11:59 pm.\n",
        "\n",
        "*Matthew Reed*\n",
        "\n",
        "In collaboration with:\n",
        "- Davis Kerr\n",
        "- Brayden Whitlock\n",
        "- Paul Semadeni"
      ]
    },
    {
      "cell_type": "markdown",
      "metadata": {
        "id": "W0WxE3IAQ2WU"
      },
      "source": [
        "## Explore Fermat's Little Theorem Further\n"
      ]
    },
    {
      "cell_type": "markdown",
      "metadata": {
        "id": "w2vby9erSjOv"
      },
      "source": [
        "Fermat's Little Theorem (FLT) says that if $N$ is prime, then $N$ divides $X^N - X$.\n",
        "\n",
        "Remember, the contrapositive of the conditional statement in this theorem is that if $N$ **doesn't** divide $X^N - X$ for some $X$, then $N$ **can't** be prime.\n",
        "\n",
        "Unfortunately, this simple primality test doesn't always work, because it can be fooled by **pseudoprimes**.\n",
        "\n",
        "For example, $341 = 11 \\cdot 31$ is not prime. But $341$ **does** divide $2^{341} - 2$ as verified below:"
      ]
    },
    {
      "cell_type": "code",
      "metadata": {
        "id": "NBrPMgZoTLAe",
        "colab": {
          "base_uri": "https://localhost:8080/"
        },
        "outputId": "c14aa560-256e-4a79-c49f-fe0840178454"
      },
      "source": [
        "((2 ** 341) - 2) % 341"
      ],
      "execution_count": null,
      "outputs": [
        {
          "output_type": "execute_result",
          "data": {
            "text/plain": [
              "0"
            ]
          },
          "metadata": {
            "tags": []
          },
          "execution_count": 1
        }
      ]
    },
    {
      "cell_type": "markdown",
      "metadata": {
        "id": "igGoVqAOTTm_"
      },
      "source": [
        "So $341$ is a so-called **base-2 pseudoprime**. What about **base-3**?"
      ]
    },
    {
      "cell_type": "code",
      "metadata": {
        "id": "hwrSZ1xDTVxW",
        "colab": {
          "base_uri": "https://localhost:8080/"
        },
        "outputId": "f81a3936-4162-4494-9754-bf762644b17d"
      },
      "source": [
        "((3 ** 341) - 3) % 341"
      ],
      "execution_count": null,
      "outputs": [
        {
          "output_type": "execute_result",
          "data": {
            "text/plain": [
              "165"
            ]
          },
          "metadata": {
            "tags": []
          },
          "execution_count": 2
        }
      ]
    },
    {
      "cell_type": "markdown",
      "metadata": {
        "id": "sc9w28MiTZXk"
      },
      "source": [
        "Check that the result is not zero, therefore $341$ is **not** a **base-3 pseudoprime**.\n",
        "\n",
        "Are there any other bases that will not fool the FLT test for $341$?\n",
        "\n",
        "Are there any pseudoprimes that will fool the FLT for **any choice** of base coprime to them?"
      ]
    },
    {
      "cell_type": "markdown",
      "metadata": {
        "id": "AMFTYECVTgy4"
      },
      "source": [
        "### The answer is yes."
      ]
    },
    {
      "cell_type": "markdown",
      "metadata": {
        "id": "u-CxbDylTkYp"
      },
      "source": [
        "Your task is the find the first 4-digit **bullet-proof pseudoprime** (**bppp**) and **prove** (yes, **PROVE**) that it will fool the FLT test for every base coprime to it.\n",
        "\n",
        "Your proof must use all of the following:\n",
        "1. the definition of coprime,\n",
        "2. a consequence of coprimality,\n",
        "3. the factorization of the **bppp**,\n",
        "4. FLT, and the\n",
        "5. CRT (Chinese Remainder Theorem).\n"
      ]
    },
    {
      "cell_type": "markdown",
      "metadata": {
        "id": "6EeWGOECtpuJ"
      },
      "source": [
        "### Searching for Potential Candidates"
      ]
    },
    {
      "cell_type": "markdown",
      "metadata": {
        "id": "yccXwAdFcGXe"
      },
      "source": [
        "If a **bppp** works for all tests, it will work for the first 30. I can use this fact to narrow down the list of potential candidates for a **bppp**."
      ]
    },
    {
      "cell_type": "code",
      "metadata": {
        "colab": {
          "base_uri": "https://localhost:8080/"
        },
        "id": "bnpb5Ophup4E",
        "outputId": "cc3cad3f-95ad-4834-c28e-7c10c4ce190c"
      },
      "source": [
        "# https://www.geeksforgeeks.org/python-sympy-sieve-primerange-method/\n",
        "from sympy import sieve\n",
        "\n",
        "max_n = 10000\n",
        "\n",
        "prime_gen = sieve.primerange(1, max_n)\n",
        "prime_list = list(prime_gen)\n",
        "composite_list = [n for n in range(2, max_n) if n not in prime_list]\n",
        "\n",
        "for n in composite_list:\n",
        "  div_test = sum([(x ** n - x) % n for x in range(2, 30)])\n",
        "  if div_test == 0:\n",
        "    print(n)"
      ],
      "execution_count": null,
      "outputs": [
        {
          "output_type": "stream",
          "text": [
            "561\n",
            "1105\n",
            "1729\n",
            "2465\n",
            "2821\n",
            "6601\n",
            "8911\n"
          ],
          "name": "stdout"
        }
      ]
    },
    {
      "cell_type": "markdown",
      "metadata": {
        "id": "QgatpvMHcwK6"
      },
      "source": [
        "For the first 4-digit **bppp** candidate, I exhaustively test all integers between 2 and the candidate."
      ]
    },
    {
      "cell_type": "code",
      "metadata": {
        "colab": {
          "base_uri": "https://localhost:8080/"
        },
        "id": "VsSK4q7Lx09I",
        "outputId": "0aacb60b-93db-4961-9add-91f8bd2e5f37"
      },
      "source": [
        "n = 1105\n",
        "sum([(x ** n - x) % n for x in range(2, n)])"
      ],
      "execution_count": null,
      "outputs": [
        {
          "output_type": "execute_result",
          "data": {
            "text/plain": [
              "0"
            ]
          },
          "metadata": {
            "tags": []
          },
          "execution_count": 1
        }
      ]
    },
    {
      "cell_type": "markdown",
      "metadata": {
        "id": "8377ZIcNdD0G"
      },
      "source": [
        "1105 passes all tests, which means it should be a valid **bppp**. Finding its factors may prove useful when trying to prove this fact."
      ]
    },
    {
      "cell_type": "code",
      "metadata": {
        "colab": {
          "base_uri": "https://localhost:8080/"
        },
        "id": "Li0kciUE06jY",
        "outputId": "314787e9-7690-4090-a97a-851da5cfd18a"
      },
      "source": [
        "# Factors\n",
        "factors = [x for x in prime_list if n % x == 0]\n",
        "\n",
        "factors"
      ],
      "execution_count": null,
      "outputs": [
        {
          "output_type": "execute_result",
          "data": {
            "text/plain": [
              "[5, 13, 17]"
            ]
          },
          "metadata": {
            "tags": []
          },
          "execution_count": 33
        }
      ]
    },
    {
      "cell_type": "markdown",
      "metadata": {
        "id": "f-fg4xiVC4IS"
      },
      "source": [
        "### Proof\n",
        "\n",
        "Using the fact that FLT can also be stated: $X^{N-1} \\equiv_N 1$, if $N$ is prime and does not divide $X$, the following is true."
      ]
    },
    {
      "cell_type": "markdown",
      "metadata": {
        "id": "3vbw3C5M18gG"
      },
      "source": [
        "1. A 4-digit alleged **bppp**, 1105, is composite because 1105 = 5 x 13 x 17.\n",
        "\n",
        "2. For a number $b$, if $b$ and 1105 have a $gcd$ of 1, then $b$ and 1105 are coprime.\n",
        "\n",
        "3. If gcd($b$, 1105) = 1, then gcd($b$, 5) = gcd($b$, 13) = gcd($b$, 17) = 1. Thus, as a consequence of coprimality, if a number $b$ is coprime to 1105, it is automatically coprime to its prime factors: 5, 13, and 17.\n",
        "\n",
        "4. Since 5, 13, and 17 are prime, and $b$ is coprime to all three, then by FLT, these three facts follow:\n",
        "\n",
        "  - $b^{4} \\equiv_5 1$\n",
        "  - $b^{12} \\equiv_{13} 1$\n",
        "  - $b^{16} \\equiv_{17} 1$\n",
        "\n",
        "5. Because 1104 is 1 less than 1105, and is also a multiple of 4, 12, and 16 --- which are 1 less than 5, 13, and 17 --- it follows that:\n",
        "\n",
        "  - $(b^4)^{276} = b^{1104} \\equiv_{5} 1$\n",
        "  - $(b^{12})^{92} = b^{1104} \\equiv_{13} 1$\n",
        "  - $(b^{16})^{69} = b^{1104} \\equiv_{17} 1$\n",
        "\n",
        "6. Since the $gcd$ between any two primes is 1, and since:\n",
        "\n",
        "  - $13 * 17 \\equiv_{5} 1$\n",
        "  - $5 * 17 * 2 \\equiv_{13} 1$\n",
        "  - $5 * 13 * 11 \\equiv_{17} 1$\n",
        "  - $(13 * 17) + (5 * 17 * 2) + (5 * 13 * 11) = 1106 \\equiv_{1105} 1$,\n",
        "\n",
        "  then by the Chinese Remainder Theorem, $b^{1104} \\equiv_{1105} 1$.\n",
        "\n",
        "7. Thus for any $b$ coprime to 1105, $b^{1104} \\equiv_{1105} 1$. This means that 1105 fools the FLT test for all $b$ coprime to it.\n",
        "\n",
        "QED"
      ]
    },
    {
      "cell_type": "markdown",
      "metadata": {
        "id": "5Cgy_0B4Q2WW"
      },
      "source": [
        "## What is True?\n",
        "Assess yourself on how you did using the checkboxes below. Check a box by putting an 'X' in it only if it is warranted.\n"
      ]
    },
    {
      "cell_type": "markdown",
      "metadata": {
        "id": "81dbKwHenxnT"
      },
      "source": [
        "# TODO My Report on What I Did and What I Learned"
      ]
    },
    {
      "cell_type": "markdown",
      "metadata": {
        "id": "C8BeiIern33B"
      },
      "source": [
        "## Fun\n",
        "At first, I was frustrated. I struggled to understand where to even begin with a mathematical proof after finding a potential candidate for a **bppp**. However, after going over some of it in class, then talking over each step with my group, I was able to gain a sense of accomplishment from completing a solid proof."
      ]
    },
    {
      "cell_type": "markdown",
      "metadata": {
        "id": "OzOkZ3son-u9"
      },
      "source": [
        "## New\n",
        "Prime numbers always seem to have interesting properties, and I learned a new fact about prime numbers (namely FLT). I still can't quite wrap my head around why $N$ divides $X^N - X$ for any prime number, $N$. I plan to look into this further but am satisfied for now with the fact that it *does* work."
      ]
    },
    {
      "cell_type": "markdown",
      "metadata": {
        "id": "mJHvoj6GokaZ"
      },
      "source": [
        "## Meaningful\n",
        "I remember learning a bit about the Chinese Remainder Theorem in DM1. However, this was the first time that I was able to put it to any practical use. I was also able to get in some practice with creating proofs."
      ]
    },
    {
      "cell_type": "markdown",
      "metadata": {
        "id": "_RBE03fhpNUG"
      },
      "source": [
        "## Other\n",
        "Replace these words with your own describing other topics or sections of your report --- Connections, Collaborator Contributions, or anything else you feel impressed to add."
      ]
    },
    {
      "cell_type": "markdown",
      "metadata": {
        "id": "Nrk-8EmgW4NP"
      },
      "source": [
        "# TODO What is True?\n",
        "Click on each warranted checkbox to toggle it to True (or back to False). \n",
        "\n",
        "NOTE: *This only works in Colab. If you run it in some other Jupyter notebook client/server environment you may have to change False to True (or vice versa) manually.*\n",
        "\n",
        "This self-assessment is subject to revision by a grader."
      ]
    },
    {
      "cell_type": "code",
      "metadata": {
        "id": "qGAjzgVRXR4M"
      },
      "source": [
        "#@markdown ## What is True about what I did?\n",
        "#@markdown ### I had fun.\n",
        "cb00 = True #@param {type:'boolean'}\n",
        "#@markdown ### I learned something new.\n",
        "cb01 = True #@param {type:'boolean'}\n",
        "#@markdown ### I achieved something meaningful, or something I can build upon at a later time.\n",
        "cb02 = True #@param {type:'boolean'}\n",
        "#@markdown ## What is true about my report?\n",
        "#@markdown ### I wrote a sufficient number of well-written sentences.\n",
        "cb03 = True #@param {type:'boolean'}\n",
        "#@markdown ### My report is free of mechanical infelicities.\n",
        "cb04 = True #@param {type:'boolean'}\n",
        "#@markdown ### I used Grammarly (or something better described in my report) to check for MIs.\n",
        "cb05 = False #@param {type:'boolean'}\n",
        "#@markdown ### I reported on any connections I found between these problems and something I already know. \n",
        "cb06 = False #@param {type:'boolean'}\n",
        "#@markdown ### I reported who were and what contribution each of my collaborators made.\n",
        "cb07 = False #@param {type:'boolean'}\n",
        "#@markdown ## What is true about my proof?\n",
        "#@markdown ### It succinctly uses the definition of coprime.\n",
        "cb08 = False #@param {type:'boolean'}\n",
        "#@markdown ### It correctly uses the definition of coprime.\n",
        "cb09 = False #@param {type:'boolean'}\n",
        "#@markdown ### It succinctly uses a consequence of comprimality\n",
        "cb10 = False #@param {type:'boolean'}\n",
        "#@markdown ### It correctly uses a consequence of comprimality\n",
        "cb11 = False #@param {type:'boolean'}\n",
        "#@markdown ### It succinctly uses the factorization of the **bppp**,\n",
        "cb12 = False #@param {type:'boolean'}\n",
        "#@markdown ### It correctly uses the factorization of the **bppp**,\n",
        "cb13 = False #@param {type:'boolean'}\n",
        "#@markdown ### It succinctly uses Fermat's Little Theorem. \n",
        "cb14 = False #@param {type:'boolean'}\n",
        "#@markdown ### It correctly uses Fermat's Little Theorem. \n",
        "cb15 = False #@param {type:'boolean'}\n",
        "#@markdown ### It succinctly uses the Chinese Remainder Theorem.\n",
        "cb16 = False #@param {type:'boolean'}\n",
        "#@markdown ### It correctly uses the Chinese Remainder Theorem.\n",
        "cb17 = False #@param {type:'boolean'}\n",
        "\n"
      ],
      "execution_count": null,
      "outputs": []
    },
    {
      "cell_type": "markdown",
      "metadata": {
        "id": "q8KESLBANSkC"
      },
      "source": [
        "## DO NOT CHANGE ANYTHING IN THE NEXT CODE CELL!!\n",
        "### Delete this cell and the following ones before submitting your work."
      ]
    },
    {
      "cell_type": "code",
      "metadata": {
        "id": "rJ_vaL0DWwoc"
      },
      "source": [
        "points_for_what_I_did = [5]*3\n",
        "points_for_my_report = [7]*5\n",
        "points_for_my_proof = [5]*10\n",
        "points = points_for_what_I_did + points_for_my_report + points_for_my_proof\n",
        "# cb is short for checkbox\n",
        "total = sum(map(lambda n, p: p if eval(f'cb{n:02}') else 0,\n",
        "                range(len(points)), points))             \n",
        "total"
      ],
      "execution_count": null,
      "outputs": []
    },
    {
      "cell_type": "markdown",
      "metadata": {
        "id": "muxeYgQQKGEU"
      },
      "source": [
        "# For graders"
      ]
    },
    {
      "cell_type": "code",
      "metadata": {
        "id": "c0ldoieNKMTU"
      },
      "source": [
        "#@markdown ---\n",
        "number_of_MIs_found = 0 #@param {type: 'slider', min: 0, max: 5}\n",
        "#@markdown ---\n"
      ],
      "execution_count": null,
      "outputs": []
    }
  ]
}