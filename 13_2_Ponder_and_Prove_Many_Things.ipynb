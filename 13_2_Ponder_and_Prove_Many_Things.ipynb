{
  "nbformat": 4,
  "nbformat_minor": 0,
  "metadata": {
    "colab": {
      "name": "13_2_Ponder_and_Prove_Many_Things.ipynb",
      "provenance": [],
      "include_colab_link": true
    },
    "kernelspec": {
      "name": "python3",
      "display_name": "Python 3"
    },
    "language_info": {
      "name": "python"
    }
  },
  "cells": [
    {
      "cell_type": "markdown",
      "metadata": {
        "id": "view-in-github",
        "colab_type": "text"
      },
      "source": [
        "<a href=\"https://colab.research.google.com/github/matthewreed2000/cse380-notebooks/blob/master/13_2_Ponder_and_Prove_Many_Things.ipynb\" target=\"_parent\"><img src=\"https://colab.research.google.com/assets/colab-badge.svg\" alt=\"Open In Colab\"/></a>"
      ]
    },
    {
      "cell_type": "markdown",
      "metadata": {
        "id": "0GZOWnts9NAD"
      },
      "source": [
        "# Ponder and Prove Many Things\n",
        "## Due: Thursday, 1 April 2021, 11:59 pm\n",
        "\n",
        "*Matthew Reed*\n",
        "\n",
        "In collaboration with:\n",
        "- Davis Kerr\n",
        "- Paul Semadeni\n",
        "- Brayden Whitlock"
      ]
    },
    {
      "cell_type": "markdown",
      "metadata": {
        "id": "S5XdXGMv9dy4"
      },
      "source": [
        "### Is It Decidable?"
      ]
    },
    {
      "cell_type": "markdown",
      "metadata": {
        "id": "Gzy9wIboAVvi"
      },
      "source": [
        "#### Study and run the code below."
      ]
    },
    {
      "cell_type": "markdown",
      "metadata": {
        "id": "218Qmbtx9lP6"
      },
      "source": [
        "And answer these questions:\n",
        "1. What is this program computing?\n",
        "2. How does it do it?\n",
        "3. Will it ever terminate?"
      ]
    },
    {
      "cell_type": "code",
      "metadata": {
        "id": "LfltDFaw9trA"
      },
      "source": [
        "from math import log2\n",
        "\n",
        "def you_decide():\n",
        "  flibbers = [17,78,19,23,29,77,95,77,1,11,13,15,15,55]\n",
        "  flobbers = [91,85,51,38,33,29,23,19,17,13,11,14,2,1]\n",
        "  i = 2\n",
        "  time_keeps_ticking = True\n",
        "  while time_keeps_ticking:\n",
        "    time_keeps_ticking = False\n",
        "    for n in range(len(flibbers)):\n",
        "      f = i * flibbers[n]\n",
        "      if not f % flobbers[n]:\n",
        "        i = f // flobbers[n]\n",
        "        p = log2(i)\n",
        "        if p.is_integer():\n",
        "          print(i)\n",
        "        time_keeps_ticking = True\n",
        "        break"
      ],
      "execution_count": 1,
      "outputs": []
    },
    {
      "cell_type": "code",
      "metadata": {
        "id": "fGZ9lZCP9xWC",
        "colab": {
          "base_uri": "https://localhost:8080/",
          "height": 723
        },
        "outputId": "b59264b3-ede0-4cac-8f15-4c652afb53d5"
      },
      "source": [
        "you_decide()"
      ],
      "execution_count": 2,
      "outputs": [
        {
          "output_type": "stream",
          "text": [
            "4\n",
            "8\n",
            "32\n",
            "128\n",
            "2048\n",
            "8192\n",
            "131072\n",
            "524288\n",
            "8388608\n",
            "536870912\n",
            "2147483648\n",
            "137438953472\n",
            "2199023255552\n",
            "8796093022208\n",
            "140737488355328\n",
            "9007199254740992\n",
            "576460752303423488\n",
            "2305843009213693952\n",
            "147573952589676412928\n",
            "2361183241434822606848\n",
            "9444732965739290427392\n",
            "604462909807314587353088\n",
            "9671406556917033397649408\n",
            "618970019642690137449562112\n",
            "158456325028528675187087900672\n"
          ],
          "name": "stdout"
        },
        {
          "output_type": "error",
          "ename": "KeyboardInterrupt",
          "evalue": "ignored",
          "traceback": [
            "\u001b[0;31m---------------------------------------------------------------------------\u001b[0m",
            "\u001b[0;31mKeyboardInterrupt\u001b[0m                         Traceback (most recent call last)",
            "\u001b[0;32m<ipython-input-2-7e16ef8f7eca>\u001b[0m in \u001b[0;36m<module>\u001b[0;34m()\u001b[0m\n\u001b[0;32m----> 1\u001b[0;31m \u001b[0myou_decide\u001b[0m\u001b[0;34m(\u001b[0m\u001b[0;34m)\u001b[0m\u001b[0;34m\u001b[0m\u001b[0;34m\u001b[0m\u001b[0m\n\u001b[0m",
            "\u001b[0;32m<ipython-input-1-a2e2415ef96f>\u001b[0m in \u001b[0;36myou_decide\u001b[0;34m()\u001b[0m\n\u001b[1;32m      8\u001b[0m   \u001b[0;32mwhile\u001b[0m \u001b[0mtime_keeps_ticking\u001b[0m\u001b[0;34m:\u001b[0m\u001b[0;34m\u001b[0m\u001b[0;34m\u001b[0m\u001b[0m\n\u001b[1;32m      9\u001b[0m     \u001b[0mtime_keeps_ticking\u001b[0m \u001b[0;34m=\u001b[0m \u001b[0;32mFalse\u001b[0m\u001b[0;34m\u001b[0m\u001b[0;34m\u001b[0m\u001b[0m\n\u001b[0;32m---> 10\u001b[0;31m     \u001b[0;32mfor\u001b[0m \u001b[0mn\u001b[0m \u001b[0;32min\u001b[0m \u001b[0mrange\u001b[0m\u001b[0;34m(\u001b[0m\u001b[0mlen\u001b[0m\u001b[0;34m(\u001b[0m\u001b[0mflibbers\u001b[0m\u001b[0;34m)\u001b[0m\u001b[0;34m)\u001b[0m\u001b[0;34m:\u001b[0m\u001b[0;34m\u001b[0m\u001b[0;34m\u001b[0m\u001b[0m\n\u001b[0m\u001b[1;32m     11\u001b[0m       \u001b[0mf\u001b[0m \u001b[0;34m=\u001b[0m \u001b[0mi\u001b[0m \u001b[0;34m*\u001b[0m \u001b[0mflibbers\u001b[0m\u001b[0;34m[\u001b[0m\u001b[0mn\u001b[0m\u001b[0;34m]\u001b[0m\u001b[0;34m\u001b[0m\u001b[0;34m\u001b[0m\u001b[0m\n\u001b[1;32m     12\u001b[0m       \u001b[0;32mif\u001b[0m \u001b[0;32mnot\u001b[0m \u001b[0mf\u001b[0m \u001b[0;34m%\u001b[0m \u001b[0mflobbers\u001b[0m\u001b[0;34m[\u001b[0m\u001b[0mn\u001b[0m\u001b[0;34m]\u001b[0m\u001b[0;34m:\u001b[0m\u001b[0;34m\u001b[0m\u001b[0;34m\u001b[0m\u001b[0m\n",
            "\u001b[0;31mKeyboardInterrupt\u001b[0m: "
          ]
        }
      ]
    },
    {
      "cell_type": "markdown",
      "metadata": {
        "id": "jRveSuiky7-W"
      },
      "source": [
        "#### Testing"
      ]
    },
    {
      "cell_type": "code",
      "metadata": {
        "id": "NsnoFEC5mQ7r"
      },
      "source": [
        "from math import log2\n",
        "\n",
        "def you_decide():\n",
        "  flibbers = [17,78,19,23,29,77,95,77,1,11,13,15,15,55]\n",
        "  flobbers = [91,85,51,38,33,29,23,19,17,13,11,14,2,1]\n",
        "  # flibbers = [11,13,15,15,55,17,78,19,23,29,77,95,77,1]\n",
        "  # flobbers = [13,11,14,2,1,91,85,51,38,33,29,23,19,17]\n",
        "  # flibbers = [17,78,19,23,29,77,95,77,1,11,13,15,15]\n",
        "  # flobbers = [91,85,51,38,33,29,23,19,17,13,11,14,2]\n",
        "  i = 2\n",
        "  time_keeps_ticking = True\n",
        "  # time_keeps_ticking = 3\n",
        "  while time_keeps_ticking:\n",
        "    time_keeps_ticking = False\n",
        "    for n in range(len(flibbers)):\n",
        "      f = i * flibbers[n]\n",
        "      # print(f'\\nf={f}, n={n}, i={i}, flib={flibbers[n]}, flob={flobbers[n]}', end='')\n",
        "      if not f % flobbers[n]:\n",
        "        i = f // flobbers[n]\n",
        "        p = log2(i)\n",
        "        # print(f', new_i={i}, p={p}')\n",
        "        if p.is_integer():\n",
        "          print(i)\n",
        "          # time_keeps_ticking = False\n",
        "        time_keeps_ticking = True\n",
        "        break"
      ],
      "execution_count": 14,
      "outputs": []
    },
    {
      "cell_type": "code",
      "metadata": {
        "id": "JIDCKYYqmSVJ",
        "colab": {
          "base_uri": "https://localhost:8080/",
          "height": 758
        },
        "outputId": "69ed2269-92e2-4b19-e3f4-eff415131eb0"
      },
      "source": [
        "you_decide()"
      ],
      "execution_count": 15,
      "outputs": [
        {
          "output_type": "stream",
          "text": [
            "4\n",
            "8\n",
            "32\n",
            "128\n",
            "2048\n",
            "8192\n",
            "131072\n",
            "524288\n",
            "8388608\n",
            "536870912\n",
            "2147483648\n",
            "137438953472\n",
            "2199023255552\n",
            "8796093022208\n",
            "140737488355328\n",
            "9007199254740992\n",
            "576460752303423488\n",
            "2305843009213693952\n",
            "147573952589676412928\n",
            "2361183241434822606848\n",
            "9444732965739290427392\n",
            "604462909807314587353088\n",
            "9671406556917033397649408\n",
            "618970019642690137449562112\n",
            "158456325028528675187087900672\n",
            "2535301200456458802993406410752\n",
            "10141204801825835211973625643008\n"
          ],
          "name": "stdout"
        },
        {
          "output_type": "error",
          "ename": "KeyboardInterrupt",
          "evalue": "ignored",
          "traceback": [
            "\u001b[0;31m---------------------------------------------------------------------------\u001b[0m",
            "\u001b[0;31mKeyboardInterrupt\u001b[0m                         Traceback (most recent call last)",
            "\u001b[0;32m<ipython-input-15-7e16ef8f7eca>\u001b[0m in \u001b[0;36m<module>\u001b[0;34m()\u001b[0m\n\u001b[0;32m----> 1\u001b[0;31m \u001b[0myou_decide\u001b[0m\u001b[0;34m(\u001b[0m\u001b[0;34m)\u001b[0m\u001b[0;34m\u001b[0m\u001b[0;34m\u001b[0m\u001b[0m\n\u001b[0m",
            "\u001b[0;32m<ipython-input-14-f23ef1a31f1c>\u001b[0m in \u001b[0;36myou_decide\u001b[0;34m()\u001b[0m\n\u001b[1;32m     18\u001b[0m       \u001b[0;32mif\u001b[0m \u001b[0;32mnot\u001b[0m \u001b[0mf\u001b[0m \u001b[0;34m%\u001b[0m \u001b[0mflobbers\u001b[0m\u001b[0;34m[\u001b[0m\u001b[0mn\u001b[0m\u001b[0;34m]\u001b[0m\u001b[0;34m:\u001b[0m\u001b[0;34m\u001b[0m\u001b[0;34m\u001b[0m\u001b[0m\n\u001b[1;32m     19\u001b[0m         \u001b[0mi\u001b[0m \u001b[0;34m=\u001b[0m \u001b[0mf\u001b[0m \u001b[0;34m//\u001b[0m \u001b[0mflobbers\u001b[0m\u001b[0;34m[\u001b[0m\u001b[0mn\u001b[0m\u001b[0;34m]\u001b[0m\u001b[0;34m\u001b[0m\u001b[0;34m\u001b[0m\u001b[0m\n\u001b[0;32m---> 20\u001b[0;31m         \u001b[0mp\u001b[0m \u001b[0;34m=\u001b[0m \u001b[0mlog2\u001b[0m\u001b[0;34m(\u001b[0m\u001b[0mi\u001b[0m\u001b[0;34m)\u001b[0m\u001b[0;34m\u001b[0m\u001b[0;34m\u001b[0m\u001b[0m\n\u001b[0m\u001b[1;32m     21\u001b[0m         \u001b[0;31m# print(f', new_i={i}, p={p}')\u001b[0m\u001b[0;34m\u001b[0m\u001b[0;34m\u001b[0m\u001b[0;34m\u001b[0m\u001b[0m\n\u001b[1;32m     22\u001b[0m         \u001b[0;32mif\u001b[0m \u001b[0mp\u001b[0m\u001b[0;34m.\u001b[0m\u001b[0mis_integer\u001b[0m\u001b[0;34m(\u001b[0m\u001b[0;34m)\u001b[0m\u001b[0;34m:\u001b[0m\u001b[0;34m\u001b[0m\u001b[0;34m\u001b[0m\u001b[0m\n",
            "\u001b[0;31mKeyboardInterrupt\u001b[0m: "
          ]
        }
      ]
    },
    {
      "cell_type": "markdown",
      "metadata": {
        "id": "n_ztUmEgy5Jv"
      },
      "source": [
        "#### Answer"
      ]
    },
    {
      "cell_type": "markdown",
      "metadata": {
        "id": "oXeJQmpJy-rG"
      },
      "source": [
        "##### 1"
      ]
    },
    {
      "cell_type": "markdown",
      "metadata": {
        "id": "AYRO-cA4zONa"
      },
      "source": [
        "The program outputs all prime powers of two in ascending order. ($2^2, 2^3, 2^5, 2^7, 2^{11}, ...$)"
      ]
    },
    {
      "cell_type": "markdown",
      "metadata": {
        "id": "Fjs7Q4OgzBUd"
      },
      "source": [
        "#####2"
      ]
    },
    {
      "cell_type": "markdown",
      "metadata": {
        "id": "9jREfqtszcSR"
      },
      "source": [
        "The program uses Conway's Fractran, which is a generalization of the Collatz function. The variable\n",
        "```i```\n",
        "is an integer at all times and only updates when\n",
        "```i```\n",
        "times some value within\n",
        "```flibbers```\n",
        "evenly divides the corresponding value within\n",
        "```flobbers```.\n",
        "\n",
        "Section 2.2 of [Can't Decide? Undecide! by Chaim Goodman-Strauss](https://strauss.hosted.uark.edu/papers/decide.pdf) states that \"every power of ten [or in this case two] that appears is a prime power, and every prime power appears, in order!\""
      ]
    },
    {
      "cell_type": "markdown",
      "metadata": {
        "id": "-43Hbxc7zCkz"
      },
      "source": [
        "##### 3"
      ]
    },
    {
      "cell_type": "markdown",
      "metadata": {
        "id": "oBFMgCUjzbvG"
      },
      "source": [
        "The program will never terminate. The only way the program will terminate is if the test,\n",
        "```if not f % flobbers[n]```,\n",
        "fails for a given value \n",
        "```f```\n",
        "for all values in\n",
        "```flobbers```.\n",
        "Since the final value in\n",
        "```flobbers```\n",
        "is\n",
        "```1```,\n",
        "this test can never fail for **all** values in\n",
        "```flobbers```\n",
        "(any integer % 1 = 0)."
      ]
    },
    {
      "cell_type": "markdown",
      "metadata": {
        "id": "oqZ3784B-EyX"
      },
      "source": [
        "### Fun With Decidability"
      ]
    },
    {
      "cell_type": "markdown",
      "metadata": {
        "id": "aeiVo2WpkySc"
      },
      "source": [
        "#### TODO Read and Share"
      ]
    },
    {
      "cell_type": "markdown",
      "metadata": {
        "id": "i13mpSpd-O39"
      },
      "source": [
        "Read [Can't Decide? Undecide! by Chaim Goodman-Strauss](https://strauss.hosted.uark.edu/papers/decide.pdf)\n",
        "\n",
        "Share six things that you found interesting in this paper.\n",
        "\n",
        "Share six things that you already knew or had heard about before. (These can overlap with the first six.)\n",
        "\n",
        "Write one to two sentences for each of the things you share.\n"
      ]
    },
    {
      "cell_type": "markdown",
      "metadata": {
        "id": "x5YM1uHCkHpC"
      },
      "source": [
        "##### Things I Find Interesting"
      ]
    },
    {
      "cell_type": "markdown",
      "metadata": {
        "id": "eMBp4RDGkNts"
      },
      "source": [
        "1. Mathematics itself can place limitations on mathematical logic. I had never thought of this until reading [Strauss's article](https://strauss.hosted.uark.edu/papers/decide.pdf).\n",
        "2. Emil Post's system of 0's and 1's seems interesting. I don't think I'd ever encountered this before.\n",
        "3. I'm still confused as to how Conway's Fractran works. I'm interested in researching it further.\n",
        "4. Conway's Game of Life was intended as a simple, universal model of computation. I had always thought of it as an intriguing programming challenge and never as a tool.\n",
        "5. There is undecidability in games like Minesweeper and Sudoku. I like that something as straightforward and commonplace as these games can have aspects that are unsolvable.\n",
        "6. The expression $e^{-x^2}$ has no antiderivative within $E$. The reason that I find this interesting is because it is found within the probability density function of a normal distribution $(\\frac{1}{\\sigma \\sqrt{2 \\pi}}e^{-\\frac{1}{2}(\\frac{x-\\mu}{\\sigma})^2})$."
      ]
    },
    {
      "cell_type": "markdown",
      "metadata": {
        "id": "JwRqFYQHkLgy"
      },
      "source": [
        "##### Things I Knew"
      ]
    },
    {
      "cell_type": "markdown",
      "metadata": {
        "id": "3s_8lo0VkQNy"
      },
      "source": [
        "1. I am familiar with the idea of tiling infinitely over a plane. I remember a project in my high school precalculus class where we created tessellations.\n",
        "2. I remember a [video by Numberphile](https://www.youtube.com/watch?v=5mFpVDpKX70) about the Collatz Conjecture.\n",
        "3. I've heard of Penrose tiling as an example of aperiodic tiling, but I would not consider myself an expert on the topic.\n",
        "4. I remember [a video](https://www.youtube.com/watch?v=YX40hbAHx3s) about problem complexity (P vs. NP).\n",
        "5. I'm familiar with Conway's Game of Life. In high school, I even attempted to program it onto my TI-84 calculator.\n",
        "6. I had heard of decision problems in general. It was nice to get multiple examples of them within the reading."
      ]
    },
    {
      "cell_type": "markdown",
      "metadata": {
        "id": "gjeWZ0Mo-r6E"
      },
      "source": [
        "### The Map of Mathematics"
      ]
    },
    {
      "cell_type": "markdown",
      "metadata": {
        "id": "xFFVrRTl-wY9"
      },
      "source": [
        "[The entire field of mathematics summarized in a single map!](https://www.youtube.com/watch?v=OmJ-4B-mS-Y) --- direct link, or embedded below.\n",
        "\n",
        "This video shows how pure mathematics and applied mathematics relate to each other and all of the sub-topics they are made from."
      ]
    },
    {
      "cell_type": "code",
      "metadata": {
        "id": "Wd_Ny-gS-zpk"
      },
      "source": [
        "from IPython.display import YouTubeVideo\n",
        "YouTubeVideo('OmJ-4B-mS-Y') # 11 minutes 5 seconds"
      ],
      "execution_count": null,
      "outputs": []
    },
    {
      "cell_type": "markdown",
      "metadata": {
        "id": "8PD-pimc-1dk"
      },
      "source": [
        "#### TODO Watch and Share"
      ]
    },
    {
      "cell_type": "markdown",
      "metadata": {
        "id": "9WIEkJ0p-9JD"
      },
      "source": [
        "Share six things that you found interesting in this video.\n",
        "\n",
        "Share six things that you already knew or had heard about before. (These can overlap with the first six.)\n",
        "\n",
        "Write one to two sentences for each of the things you share.\n"
      ]
    },
    {
      "cell_type": "markdown",
      "metadata": {
        "id": "v1daPXZckSnn"
      },
      "source": [
        "##### Things I Find Interesting"
      ]
    },
    {
      "cell_type": "markdown",
      "metadata": {
        "id": "7xjD0g2IkSnq"
      },
      "source": [
        "1. I want to learn more about complex numbers and quaternions.\n",
        "2. I still find it interesting that some infinities are larger than others (although, it does make sense to me). The example given in the video is that there are more Real Numbers than Integers.\n",
        "3. I have already taken a course in Linear Algebra, but I still want to learn more about vectors and matrices.\n",
        "4. Going along with the last point, I think it would be interesting to learn vector calculus.\n",
        "5. Everything in mathematics is interrelated. It's sometimes surprising.\n",
        "6. Gödel's Incompleteness Theorems are mentioned. I find this interesting as it was the main focus of [the article used in the previous section](https://www.youtube.com/watch?v=OmJ-4B-mS-Y)."
      ]
    },
    {
      "cell_type": "markdown",
      "metadata": {
        "id": "WozpFaqakSnr"
      },
      "source": [
        "##### Things I Knew"
      ]
    },
    {
      "cell_type": "markdown",
      "metadata": {
        "id": "xRsdNdjRkSns"
      },
      "source": [
        "1. I was aware of many of the origins of mathematics (as described in the video).\n",
        "2. There are many points in history where something discovered in Pure Mathematics that was later found to be useful in Applied Mathematics.\n",
        "3. Some infinities are bigger than others. We went over this in class, when mapping different sets onto the Natural Numbers.\n",
        "4. In DM2, we spent a lot of time on Number Theory and Combinatorics.\n",
        "5. Turing machines, computer science, and cryptography\n",
        "6. Set theory (Foundations)"
      ]
    },
    {
      "cell_type": "markdown",
      "metadata": {
        "id": "nfxMo9bl_TZA"
      },
      "source": [
        "### The Map of Computer Science"
      ]
    },
    {
      "cell_type": "markdown",
      "metadata": {
        "id": "bM9Dst0d_tIW"
      },
      "source": [
        "[The field of computer science similarly summarized.](https://www.youtube.com/watch?v=SzJ46YA_RaA) --- direct link, or embedded below."
      ]
    },
    {
      "cell_type": "code",
      "metadata": {
        "id": "LnBJvrbi_xIp"
      },
      "source": [
        "from IPython.display import YouTubeVideo\n",
        "YouTubeVideo('SzJ46YA_RaA') # 10 minutes 57 seconds"
      ],
      "execution_count": null,
      "outputs": []
    },
    {
      "cell_type": "markdown",
      "metadata": {
        "id": "5194ShLd_zjU"
      },
      "source": [
        "#### TODO Watch and Share"
      ]
    },
    {
      "cell_type": "markdown",
      "metadata": {
        "id": "zTI_XHCU_1HW"
      },
      "source": [
        "Share six things that you found interesting in this video.\n",
        "\n",
        "Share six things that you already knew or had heard about before. (These can overlap with the first six.)\n",
        "\n",
        "Write one to two sentences for each of the things you share."
      ]
    },
    {
      "cell_type": "markdown",
      "metadata": {
        "id": "6_TaKpwXkTia"
      },
      "source": [
        "##### Things I Find Interesting"
      ]
    },
    {
      "cell_type": "markdown",
      "metadata": {
        "id": "WvU7XlSQkTib"
      },
      "source": [
        "1. I would like to learn more about Lambda Calculus\n",
        "2. I still find it interesting that there are some problems which simply cannot be solved by computers.\n",
        "3. I would like to learn more about algorithms and algorithmic complexity. I'm thinking I might take that class (or its replacement) next Fall.\n",
        "4. How does scheduling work on a multi-processor-based machine?\n",
        "5. I find optimization problems interesting, as they are fundamental to machine learning. I would like to learn more about this area of Computer Science as well.\n",
        "6. The ideas of Virtual Reality, Augmented Reality, Teleprescence, and Robotics seem like they would be both amazing and challenging to learn. I hope that my career ends up using at least some of these areas."
      ]
    },
    {
      "cell_type": "markdown",
      "metadata": {
        "id": "QLziKiz3kTic"
      },
      "source": [
        "##### Things I Knew"
      ]
    },
    {
      "cell_type": "markdown",
      "metadata": {
        "id": "wV1UHnIQkTie"
      },
      "source": [
        "1. Turing Machines are the foundation of computer science.\n",
        "2. Some problems (such as the Halting Problem) are impossible for a computer to answer.\n",
        "3. Different algorithms can end at the same final result, but some are more efficient than others.\n",
        "4. Varying programming languages are used depending on the task at hand.\n",
        "5. Operating system, networking, computer graphics, machine learning, computer vision, etc.\n",
        "6. Different architectures can be used with their own strengths and trade-offs."
      ]
    },
    {
      "cell_type": "markdown",
      "metadata": {
        "id": "fPu3fWgR_3hI"
      },
      "source": [
        "### SKIP Report"
      ]
    },
    {
      "cell_type": "markdown",
      "metadata": {
        "id": "JoO9lagO_5lt"
      },
      "source": [
        "The sentences you have already (supposedly) written will suffice."
      ]
    },
    {
      "cell_type": "markdown",
      "metadata": {
        "id": "shpEERFS_87F"
      },
      "source": [
        "### SKIP Self-Assessment"
      ]
    },
    {
      "cell_type": "markdown",
      "metadata": {
        "id": "yWvKYeqc__bX"
      },
      "source": [
        "Instead, you will have ilearn peer reviews to complete."
      ]
    }
  ]
}