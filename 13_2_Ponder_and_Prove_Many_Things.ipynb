{
  "nbformat": 4,
  "nbformat_minor": 0,
  "metadata": {
    "colab": {
      "name": "13_2_Ponder_and_Prove_Many_Things.ipynb",
      "provenance": [],
      "include_colab_link": true
    },
    "kernelspec": {
      "name": "python3",
      "display_name": "Python 3"
    },
    "language_info": {
      "name": "python"
    }
  },
  "cells": [
    {
      "cell_type": "markdown",
      "metadata": {
        "id": "view-in-github",
        "colab_type": "text"
      },
      "source": [
        "<a href=\"https://colab.research.google.com/github/matthewreed2000/cse380-notebooks/blob/master/13_2_Ponder_and_Prove_Many_Things.ipynb\" target=\"_parent\"><img src=\"https://colab.research.google.com/assets/colab-badge.svg\" alt=\"Open In Colab\"/></a>"
      ]
    },
    {
      "cell_type": "markdown",
      "metadata": {
        "id": "0GZOWnts9NAD"
      },
      "source": [
        "# Ponder and Prove Many Things\n",
        "## Due: Thursday, 1 April 2021, 11:59 pm\n",
        "\n",
        "*Matthew Reed*\n",
        "\n",
        "In collaboration with:\n",
        "- Davis Kerr\n",
        "- Paul Semadeni\n",
        "- Brayden Whitlock"
      ]
    },
    {
      "cell_type": "markdown",
      "metadata": {
        "id": "S5XdXGMv9dy4"
      },
      "source": [
        "### Is It Decidable?"
      ]
    },
    {
      "cell_type": "markdown",
      "metadata": {
        "id": "Gzy9wIboAVvi"
      },
      "source": [
        "#### Study and run the code below."
      ]
    },
    {
      "cell_type": "markdown",
      "metadata": {
        "id": "218Qmbtx9lP6"
      },
      "source": [
        "And answer these questions:\n",
        "1. What is this program computing?\n",
        "2. How does it do it?\n",
        "3. Will it ever terminate?"
      ]
    },
    {
      "cell_type": "code",
      "metadata": {
        "id": "LfltDFaw9trA"
      },
      "source": [
        "from math import log2\n",
        "\n",
        "def you_decide():\n",
        "  flibbers = [17,78,19,23,29,77,95,77,1,11,13,15,15,55]\n",
        "  flobbers = [91,85,51,38,33,29,23,19,17,13,11,14,2,1]\n",
        "  i = 2\n",
        "  time_keeps_ticking = True\n",
        "  while time_keeps_ticking:\n",
        "    time_keeps_ticking = False\n",
        "    for n in range(len(flibbers)):\n",
        "      f = i * flibbers[n]\n",
        "      if not f % flobbers[n]:\n",
        "        i = f // flobbers[n]\n",
        "        p = log2(i)\n",
        "        if p.is_integer():\n",
        "          print(i)\n",
        "        time_keeps_ticking = True\n",
        "        break"
      ],
      "execution_count": null,
      "outputs": []
    },
    {
      "cell_type": "code",
      "metadata": {
        "id": "fGZ9lZCP9xWC"
      },
      "source": [
        "you_decide()"
      ],
      "execution_count": null,
      "outputs": []
    },
    {
      "cell_type": "markdown",
      "metadata": {
        "id": "jRveSuiky7-W"
      },
      "source": [
        "#### Testing"
      ]
    },
    {
      "cell_type": "code",
      "metadata": {
        "id": "NsnoFEC5mQ7r"
      },
      "source": [
        "from math import log2\n",
        "\n",
        "def you_decide():\n",
        "  flibbers = [17,78,19,23,29,77,95,77,1,11,13,15,15,55]\n",
        "  flobbers = [91,85,51,38,33,29,23,19,17,13,11,14,2,1]\n",
        "  # flibbers = [11,13,15,15,55,17,78,19,23,29,77,95,77,1]\n",
        "  # flobbers = [13,11,14,2,1,91,85,51,38,33,29,23,19,17]\n",
        "  # flibbers = [17,78,19,23,29,77,95,77,1,11,13,15,15]\n",
        "  # flobbers = [91,85,51,38,33,29,23,19,17,13,11,14,2]\n",
        "  i = 2\n",
        "  time_keeps_ticking = True\n",
        "  # time_keeps_ticking = 3\n",
        "  while time_keeps_ticking:\n",
        "    time_keeps_ticking = False\n",
        "    for n in range(len(flibbers)):\n",
        "      f = i * flibbers[n]\n",
        "      # print(f'\\nf={f}, n={n}, i={i}, flib={flibbers[n]}, flob={flobbers[n]}', end='')\n",
        "      if not f % flobbers[n]:\n",
        "        i = f // flobbers[n]\n",
        "        p = log2(i)\n",
        "        # print(f', new_i={i}, p={p}')\n",
        "        if p.is_integer():\n",
        "          print(i)\n",
        "          # time_keeps_ticking = False\n",
        "        time_keeps_ticking = True\n",
        "        break"
      ],
      "execution_count": null,
      "outputs": []
    },
    {
      "cell_type": "code",
      "metadata": {
        "id": "JIDCKYYqmSVJ"
      },
      "source": [
        "you_decide()"
      ],
      "execution_count": null,
      "outputs": []
    },
    {
      "cell_type": "markdown",
      "metadata": {
        "id": "n_ztUmEgy5Jv"
      },
      "source": [
        "#### Answer"
      ]
    },
    {
      "cell_type": "markdown",
      "metadata": {
        "id": "oXeJQmpJy-rG"
      },
      "source": [
        "##### 1"
      ]
    },
    {
      "cell_type": "markdown",
      "metadata": {
        "id": "AYRO-cA4zONa"
      },
      "source": [
        "The program outputs all prime powers of two in ascending order. ($2^2, 2^3, 2^5, 2^7, 2^{11}, ...$)"
      ]
    },
    {
      "cell_type": "markdown",
      "metadata": {
        "id": "Fjs7Q4OgzBUd"
      },
      "source": [
        "#####2"
      ]
    },
    {
      "cell_type": "markdown",
      "metadata": {
        "id": "9jREfqtszcSR"
      },
      "source": [
        ""
      ]
    },
    {
      "cell_type": "markdown",
      "metadata": {
        "id": "-43Hbxc7zCkz"
      },
      "source": [
        "##### 3"
      ]
    },
    {
      "cell_type": "markdown",
      "metadata": {
        "id": "oBFMgCUjzbvG"
      },
      "source": [
        "The program will never terminate. The only way for the program to terminate is if the test,\n",
        "```if not f % flobbers[n]```\n",
        ", fails for a given value \n",
        "```f```\n",
        "over all values in\n",
        "```flobbers```\n",
        ". Since the final value in\n",
        "```flobbers```\n",
        "is\n",
        "```1```\n",
        ", this test can never fail for **all** values in\n",
        "```flobbers```\n",
        "(any integer % 1 = 0)."
      ]
    },
    {
      "cell_type": "markdown",
      "metadata": {
        "id": "oqZ3784B-EyX"
      },
      "source": [
        "### Fun With Decidability"
      ]
    },
    {
      "cell_type": "markdown",
      "metadata": {
        "id": "aeiVo2WpkySc"
      },
      "source": [
        "#### TODO Read and Share"
      ]
    },
    {
      "cell_type": "markdown",
      "metadata": {
        "id": "i13mpSpd-O39"
      },
      "source": [
        "Read [Can't Decide? Undecide! by Chaim Goodman-Strauss](https://strauss.hosted.uark.edu/papers/decide.pdf)\n",
        "\n",
        "Share six things that you found interesting in this paper.\n",
        "\n",
        "Share six things that you already knew or had heard about before. (These can overlap with the first six.)\n",
        "\n",
        "Write one to two sentences for each of the things you share.\n"
      ]
    },
    {
      "cell_type": "markdown",
      "metadata": {
        "id": "x5YM1uHCkHpC"
      },
      "source": [
        "##### Things I Find Interesting"
      ]
    },
    {
      "cell_type": "markdown",
      "metadata": {
        "id": "eMBp4RDGkNts"
      },
      "source": [
        "1. Mathematics itself places limitations on mathematical logic\n",
        "2. Emil Post's system of 0's and 1's\n",
        "3. How does Conway's Fractran work?\n",
        "4. Conway's Game of Life was originally intended as a simple, universal model of computation.\n",
        "5. \n",
        "6. "
      ]
    },
    {
      "cell_type": "markdown",
      "metadata": {
        "id": "JwRqFYQHkLgy"
      },
      "source": [
        "##### Things I Knew"
      ]
    },
    {
      "cell_type": "markdown",
      "metadata": {
        "id": "3s_8lo0VkQNy"
      },
      "source": [
        "1. Tiling infinitely on a plane\n",
        "2. Collatz Conjecture\n",
        "3. I've heard of Penrose tiling\n",
        "4. P vs NP\n",
        "5. Conway's Game of Life\n",
        "6. Decision Problems in General"
      ]
    },
    {
      "cell_type": "markdown",
      "metadata": {
        "id": "gjeWZ0Mo-r6E"
      },
      "source": [
        "### The Map of Mathematics"
      ]
    },
    {
      "cell_type": "markdown",
      "metadata": {
        "id": "xFFVrRTl-wY9"
      },
      "source": [
        "[The entire field of mathematics summarized in a single map!](https://www.youtube.com/watch?v=OmJ-4B-mS-Y) --- direct link, or embedded below.\n",
        "\n",
        "This video shows how pure mathematics and applied mathematics relate to each other and all of the sub-topics they are made from."
      ]
    },
    {
      "cell_type": "code",
      "metadata": {
        "id": "Wd_Ny-gS-zpk"
      },
      "source": [
        "from IPython.display import YouTubeVideo\n",
        "YouTubeVideo('OmJ-4B-mS-Y') # 11 minutes 5 seconds"
      ],
      "execution_count": null,
      "outputs": []
    },
    {
      "cell_type": "markdown",
      "metadata": {
        "id": "8PD-pimc-1dk"
      },
      "source": [
        "#### TODO Watch and Share"
      ]
    },
    {
      "cell_type": "markdown",
      "metadata": {
        "id": "9WIEkJ0p-9JD"
      },
      "source": [
        "Share six things that you found interesting in this video.\n",
        "\n",
        "Share six things that you already knew or had heard about before. (These can overlap with the first six.)\n",
        "\n",
        "Write one to two sentences for each of the things you share.\n"
      ]
    },
    {
      "cell_type": "markdown",
      "metadata": {
        "id": "v1daPXZckSnn"
      },
      "source": [
        "##### Things I Find Interesting"
      ]
    },
    {
      "cell_type": "markdown",
      "metadata": {
        "id": "7xjD0g2IkSnq"
      },
      "source": [
        "1. \n",
        "2. \n",
        "3. \n",
        "4. \n",
        "5. \n",
        "6. "
      ]
    },
    {
      "cell_type": "markdown",
      "metadata": {
        "id": "WozpFaqakSnr"
      },
      "source": [
        "##### Things I Knew"
      ]
    },
    {
      "cell_type": "markdown",
      "metadata": {
        "id": "xRsdNdjRkSns"
      },
      "source": [
        "1. \n",
        "2. \n",
        "3. \n",
        "4. \n",
        "5. \n",
        "6. "
      ]
    },
    {
      "cell_type": "markdown",
      "metadata": {
        "id": "nfxMo9bl_TZA"
      },
      "source": [
        "### The Map of Computer Science"
      ]
    },
    {
      "cell_type": "markdown",
      "metadata": {
        "id": "bM9Dst0d_tIW"
      },
      "source": [
        "[The field of computer science similarly summarized.](https://www.youtube.com/watch?v=SzJ46YA_RaA) --- direct link, or embedded below."
      ]
    },
    {
      "cell_type": "code",
      "metadata": {
        "id": "LnBJvrbi_xIp"
      },
      "source": [
        "from IPython.display import YouTubeVideo\n",
        "YouTubeVideo('SzJ46YA_RaA') # 10 minutes 57 seconds"
      ],
      "execution_count": null,
      "outputs": []
    },
    {
      "cell_type": "markdown",
      "metadata": {
        "id": "5194ShLd_zjU"
      },
      "source": [
        "#### TODO Watch and Share"
      ]
    },
    {
      "cell_type": "markdown",
      "metadata": {
        "id": "zTI_XHCU_1HW"
      },
      "source": [
        "Share six things that you found interesting in this video.\n",
        "\n",
        "Share six things that you already knew or had heard about before. (These can overlap with the first six.)\n",
        "\n",
        "Write one to two sentences for each of the things you share."
      ]
    },
    {
      "cell_type": "markdown",
      "metadata": {
        "id": "6_TaKpwXkTia"
      },
      "source": [
        "##### Things I Find Interesting"
      ]
    },
    {
      "cell_type": "markdown",
      "metadata": {
        "id": "WvU7XlSQkTib"
      },
      "source": [
        "1. \n",
        "2. \n",
        "3. \n",
        "4. \n",
        "5. \n",
        "6. "
      ]
    },
    {
      "cell_type": "markdown",
      "metadata": {
        "id": "QLziKiz3kTic"
      },
      "source": [
        "##### Things I Knew"
      ]
    },
    {
      "cell_type": "markdown",
      "metadata": {
        "id": "wV1UHnIQkTie"
      },
      "source": [
        "1. \n",
        "2. \n",
        "3. \n",
        "4. \n",
        "5. \n",
        "6. "
      ]
    },
    {
      "cell_type": "markdown",
      "metadata": {
        "id": "fPu3fWgR_3hI"
      },
      "source": [
        "### SKIP Report"
      ]
    },
    {
      "cell_type": "markdown",
      "metadata": {
        "id": "JoO9lagO_5lt"
      },
      "source": [
        "The sentences you have already (supposedly) written will suffice."
      ]
    },
    {
      "cell_type": "markdown",
      "metadata": {
        "id": "shpEERFS_87F"
      },
      "source": [
        "### SKIP Self-Assessment"
      ]
    },
    {
      "cell_type": "markdown",
      "metadata": {
        "id": "yWvKYeqc__bX"
      },
      "source": [
        "Instead, you will have ilearn peer reviews to complete."
      ]
    }
  ]
}