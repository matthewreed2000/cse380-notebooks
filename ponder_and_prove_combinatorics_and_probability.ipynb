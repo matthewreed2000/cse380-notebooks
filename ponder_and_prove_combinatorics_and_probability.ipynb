{
  "nbformat": 4,
  "nbformat_minor": 0,
  "metadata": {
    "kernelspec": {
      "display_name": "Python 3",
      "language": "python",
      "name": "python3"
    },
    "language_info": {
      "codemirror_mode": {
        "name": "ipython",
        "version": 3
      },
      "file_extension": ".py",
      "mimetype": "text/x-python",
      "name": "python",
      "nbconvert_exporter": "python",
      "pygments_lexer": "ipython3",
      "version": "3.9.0"
    },
    "colab": {
      "name": "Copy of ponder_and_prove_combinatorics_and_probability.ipynb",
      "provenance": [],
      "include_colab_link": true
    }
  },
  "cells": [
    {
      "cell_type": "markdown",
      "metadata": {
        "id": "view-in-github",
        "colab_type": "text"
      },
      "source": [
        "<a href=\"https://colab.research.google.com/github/matthewreed2000/cse380-notebooks/blob/master/ponder_and_prove_combinatorics_and_probability.ipynb\" target=\"_parent\"><img src=\"https://colab.research.google.com/assets/colab-badge.svg\" alt=\"Open In Colab\"/></a>"
      ]
    },
    {
      "cell_type": "markdown",
      "metadata": {
        "id": "yCC6rbOMgTCD"
      },
      "source": [
        "# Ponder and Prove Combinatorics and Probability\n",
        "#### Due: Saturday, 6 February 2021, 11:59 pm."
      ]
    },
    {
      "cell_type": "markdown",
      "metadata": {
        "id": "3Joe3zAHgTCG"
      },
      "source": [
        "## Conjecture\n",
        "\n",
        "A number-theoretic conjecture of combinatorial significance is the following:\n",
        "\n",
        "$degree2({2n \\choose n}) =$ the \"bits-on count\" (or population count, or Hamming weight) of $n$.\n",
        "\n",
        "$degree2(m)$ is defined as the number (degree, exponent) of 2's in the prime factorization of $m$.\n",
        "\n",
        "In other words, for any $m$, a positive integer, $m = 2^e \\cdot o$ where $o$ is an odd positive integer (could be 1) and $e$ is a natural number, including zero --- which would be the case when $m$ is odd. It's the $e$ that is the $degree2$ of $m$.\n",
        "\n",
        "Another way to state this conjecture is that the number of 1's in the binary expansion of ${2n \\choose n}$ for positive integer $n$ is equal to the number of 2's in the prime factorization of $n$.\n",
        "\n",
        "Your task is to write Python code to test this conjecture for as many positive integers as you can. See the self-assessment for more details.\n",
        "\n",
        "Note: a `bitsoncount` function can be a one-liner in Python: `return bin(x).count('1')`\n",
        "\n"
      ]
    },
    {
      "cell_type": "markdown",
      "metadata": {
        "id": "lkrLCQivkR4c"
      },
      "source": [
        "### Setup Functions"
      ]
    },
    {
      "cell_type": "code",
      "metadata": {
        "id": "k_ewvF7mg_7T"
      },
      "source": [
        "# from math import gcd\n",
        "import operator as op\n",
        "from functools import reduce\n",
        "\n",
        "# def nCk(n, k):\n",
        "  # if k < 0 or k > n:\n",
        "  #   return 0\n",
        "  # else:\n",
        "  #   result = 1\n",
        "  #   d = 1\n",
        "  #   g = 1\n",
        "  #   m = min(k, n - k)\n",
        "  #   while (d <= m):\n",
        "  #     g = gcd(result, d)\n",
        "  #     result = n * (result // g)\n",
        "  #     result = (result // (d // g))\n",
        "  #     n -= 1\n",
        "  #     d += 1\n",
        "  #   return result\n",
        "\n",
        "'''\n",
        "https://stackoverflow.com/questions/4941753/is-there-a-math-ncr-function-in-python\n",
        "'''\n",
        "def nCk(n, k):\n",
        "  k = min(k, n-k)\n",
        "  numer = reduce(op.mul, range(n, n-k, -1), 1)\n",
        "  denom = reduce(op.mul, range(1, k+1), 1)\n",
        "  return numer // denom\n",
        "\n",
        "def count_twos(x):\n",
        "  if x % 2 == 0 and x != 0:\n",
        "    return 1 + count_twos(x // 2)\n",
        "  else:\n",
        "    return 0\n",
        "\n",
        "bitsoncount = lambda x: bin(x).count('1')"
      ],
      "execution_count": 1,
      "outputs": []
    },
    {
      "cell_type": "code",
      "metadata": {
        "colab": {
          "base_uri": "https://localhost:8080/"
        },
        "id": "AZM5vjBgjhJ_",
        "outputId": "29dce7c7-5cbf-4c48-9b73-61b167dbcc6f"
      },
      "source": [
        "n = 26\n",
        "print(count_twos(nCk(2*n, n)))\n",
        "print(bitsoncount(n))"
      ],
      "execution_count": 2,
      "outputs": [
        {
          "output_type": "stream",
          "text": [
            "3\n",
            "3\n"
          ],
          "name": "stdout"
        }
      ]
    },
    {
      "cell_type": "markdown",
      "metadata": {
        "id": "gaPWacRHkXc5"
      },
      "source": [
        "### Test a bunch of numbers"
      ]
    },
    {
      "cell_type": "code",
      "metadata": {
        "id": "ty2KcG_BkbOz"
      },
      "source": [
        "def test_group(min, max):\n",
        "  return [n for n in range(min, max) if count_twos(nCk(2*n, n)) != bitsoncount(n)]\n",
        "\n",
        "def test_indiv(n):\n",
        "  return [n] if count_twos(nCk(2*n, n)) != bitsoncount(n) else []"
      ],
      "execution_count": 3,
      "outputs": []
    },
    {
      "cell_type": "code",
      "metadata": {
        "id": "VDhtbpMHwwHl",
        "outputId": "17158d05-3530-4115-fa10-b1fad5dde2cf",
        "colab": {
          "base_uri": "https://localhost:8080/"
        }
      },
      "source": [
        "import datetime\n",
        "start_time = datetime.datetime.now()\n",
        "print('Starting at ' + str(start_time))\n",
        "\n",
        "# step = 2\n",
        "n = 1\n",
        "errors = []\n",
        "\n",
        "try:\n",
        "  while True:\n",
        "    # errors += test_group(n, n + step)\n",
        "    # n += step\n",
        "    errors += test_indiv(n)\n",
        "    n += 1\n",
        "except:\n",
        "  print(f'Verified up to {n}, finding {len(errors)} errors at {errors}. Time elapsed: {datetime.datetime.now() - start_time}')"
      ],
      "execution_count": 4,
      "outputs": [
        {
          "output_type": "stream",
          "text": [
            "Starting at 2021-02-05 21:21:54.130142\n",
            "Verified up to 9592, finding 0 errors at []. Time elapsed: 0:02:31.463825\n"
          ],
          "name": "stdout"
        }
      ]
    },
    {
      "cell_type": "markdown",
      "metadata": {
        "id": "J5-Q8gXx2bX0"
      },
      "source": [
        "### Testing Different Step Values\n",
        "Default nCk:\n",
        "- Individual, n = 3152, t = 25.66721, n/t = 122.8\n",
        "- step = 2, n = 3112, t = 25.444367, n/t = 122.3\n",
        "- step = 10, n = 3130, t = 25.909244, n/t = 120.8\n",
        "- step = 100, n = 3100, t = 25.449195, n/t = 121.8\n",
        "- step = 1000, n = 3000, t = 25.415134, n/t = 118.0\n",
        "\n",
        "Optimized nCk:\n",
        "- Individual, n = 5274, t = 25.349994, n/t = 208.0\n",
        "- step = 2, n = 5113, t = 25.52674, n/t = 200.3"
      ]
    },
    {
      "cell_type": "markdown",
      "metadata": {
        "id": "Y7glA1P9gTCH"
      },
      "source": [
        "## Basic Probability Theory Question\n",
        "A dark room contains two barrels. The first barrel is filled with green marbles, the second is filled with a half-and-half mixture of green and blue marbles. So there's a 100% chance of choosing a green marble from the first barrel, and a 50% chance of choosing either color in the second barrel. You reach into one of the barrels (it's dark so you don't know which one) and select a marble at random. It's green. You select another. It's green too. You select a third, a fourth, a fifth, etc. Green each time. What is the *minimum* number of marbles you need to select to *exceed* a probability of 99% that you are picking them out of the all-green barrel? (Note that there are enough marbles so that the answer does not depend on how many marbles are in the second barrel.)\n"
      ]
    },
    {
      "cell_type": "markdown",
      "metadata": {
        "id": "33sCEH3vnBSI"
      },
      "source": [
        "P(All-Green) = 1 - !P(All-Green) = 1 - P(Half-and-Half)\n",
        "\n",
        "P(Half-and-Half) = 0.5^n, where n is the number of marbles pulled.\n",
        "\n",
        "If we want P(All-Green) > 0.99, then 1 - P(Half-and-Half) > 0.99, thus P(Half-and-Half) < 0.01\n",
        "\n",
        "0.5^n < 0.01\n",
        "\n",
        "n > log(0.01) / log(0.5)\n",
        "\n",
        "n > 6.644\n",
        "\n",
        "Since n is an integer, n >= 7"
      ]
    },
    {
      "cell_type": "markdown",
      "metadata": {
        "id": "iAGyLZpZgTCH"
      },
      "source": [
        "## A Related But Deeper Basic Probability Theory Question\n",
        "Take a deep breath. Suppose Shakespeare's account is accurate and Julius Caesar gasped \"You too, Brutus\" before breathing his last. What is the probability that you just inhaled a molecule that Julius Caesar exhaled in his dying breath?\n",
        "\n",
        "Assume that after more than two thousand years the exhaled molecules are uniformly spread about the world and the vast majority are still free in the atmosphere. Assume further that there are $10^{44}$ molecules of air in the world, and that your inhaled quantity and Caesar's exhaled quantity were each about $2.2 \\times 10^{22}$ molecules.\n",
        "### Hint\n",
        "If a number $x$ is small, then $(1 - x)$ is approximately equal to $e^{-x}$.\n"
      ]
    },
    {
      "cell_type": "markdown",
      "metadata": {
        "id": "JSA0yxLhphwg"
      },
      "source": [
        "The probability that \n",
        "\n",
        "P(Breathing-Same) = 1 - P(Not-Breathing-Same)\n",
        "\n",
        "P(Not-Breathing-Same) = P(Not-Breathing-One-Molecule) ^ n, where n is the number of molecules breathed in\n",
        "\n",
        "P(Not-Breathing-One-Molecule) = 1 - P(Breathing-One-Molecule)\n",
        "\n",
        "P(Breathing-One-Molecule) = n / w, where n is the number of molecules exhaled and w is the molecules of air in the world\n",
        "\n",
        "Thus, \n",
        "$$\n",
        "P(Breathing-Same) = 1 - ((1 - n / w)^n)\\\\\n",
        "= 1 - ((1 - (2.2 \\times 10^{22} / 10^{44})) ^ {2.2 \\times 10^{22}})\\\\\n",
        "\\approx e^{-((1 - (2.2 \\times 10^{22} / 10^{44})) ^ {2.2 \\times 10^{22}})}\\\\\n",
        "\\approx e^{-((e^{-(2.2 \\times 10^{22} / 10^{44})}) ^ {2.2 \\times 10^{22}})}\\\\\n",
        "\\approx e^{-(e^{-(2.2 \\times 10^{22} * 2.2 \\times 10^{22} / 10^{44})})}\\\\\n",
        "\\approx e^{-(e^{-4.84})}\n",
        "$$"
      ]
    },
    {
      "cell_type": "code",
      "metadata": {
        "colab": {
          "base_uri": "https://localhost:8080/"
        },
        "id": "PboAwZzYs5PL",
        "outputId": "800d25ef-1273-4386-840a-56e90ca4eef5"
      },
      "source": [
        "from math import e\n",
        "\n",
        "e**(-(e**(-4.84)))"
      ],
      "execution_count": null,
      "outputs": [
        {
          "output_type": "execute_result",
          "data": {
            "text/plain": [
              "0.9921241244694242"
            ]
          },
          "metadata": {
            "tags": []
          },
          "execution_count": 5
        }
      ]
    },
    {
      "cell_type": "markdown",
      "metadata": {
        "id": "dBB467jegTCH"
      },
      "source": [
        "## What is True?\n",
        "Assess yourself on how you did using the checkboxes below. Check a box by putting an 'X' in it only if it is warranted.\n"
      ]
    },
    {
      "cell_type": "markdown",
      "metadata": {
        "id": "S95KpgiSgTCH"
      },
      "source": [
        "### What is true of my experience in general?\n",
        "(5 points each, 15 points total)\n",
        "- [ ] I had fun.\n",
        "- [ ] I learned something new.\n",
        "- [ ] I achieved something meaningful, or something I can build upon at a later time."
      ]
    },
    {
      "cell_type": "markdown",
      "metadata": {
        "id": "3_fJAOEhgTCI"
      },
      "source": [
        "### What is true of my report on what I learned?\n",
        "(5 points each, 25 points total)\n",
        "- [ ] I wrote a sufficient number of well-written sentences.\n",
        "- [ ] My report is free of \"mechanical infelicities\" (misspelled words, grammatical errors, punctuation errors, etc.).\n",
        "- [ ] I reported on any connections I found between this investigation and something I already know.\n",
        "- [ ] I reported who were and what contribution each of my collaborators made.\n",
        "- [ ] I reported on how many numbers I was able to verify with a time/computation budget of 24 hours (in a row).\n"
      ]
    },
    {
      "cell_type": "markdown",
      "metadata": {
        "id": "uB8xwUrigTCI"
      },
      "source": [
        "### What is true about my answers?\n",
        "(15 points each, 60 points total)\n",
        "- [ ] I figured out how to run a Python program continuously for at least 24 hours.\n",
        "- [ ] I refrained from printing out anything except the highest number I verified, knowing that printing just slows a program down.\n",
        "- [ ] I got the right answer for the first probability theory question.\n",
        "- [ ] I got the right answer for the second probability theory question.\n"
      ]
    },
    {
      "cell_type": "code",
      "metadata": {
        "id": "pp-Zy_5xgTCI"
      },
      "source": [
        ""
      ],
      "execution_count": null,
      "outputs": []
    }
  ]
}