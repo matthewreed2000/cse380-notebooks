{
  "nbformat": 4,
  "nbformat_minor": 0,
  "metadata": {
    "kernelspec": {
      "display_name": "Python 3",
      "language": "python",
      "name": "python3"
    },
    "language_info": {
      "codemirror_mode": {
        "name": "ipython",
        "version": 3
      },
      "file_extension": ".py",
      "mimetype": "text/x-python",
      "name": "python",
      "nbconvert_exporter": "python",
      "pygments_lexer": "ipython3",
      "version": "3.9.0"
    },
    "colab": {
      "name": "CSE380_DPC05.ipynb",
      "provenance": [],
      "collapsed_sections": [
        "fsju2AawZj3w"
      ]
    }
  },
  "cells": [
    {
      "cell_type": "markdown",
      "metadata": {
        "id": "_HBy3p6I0wPx"
      },
      "source": [
        "# About Generating Permutations and Combinations\n",
        "## Divide Pair Conquer\n",
        "### Due: Monday, 1 February 2021, 11:59pm\n",
        "\\\\\n",
        "*Matthew Reed*\n"
      ]
    },
    {
      "cell_type": "markdown",
      "metadata": {
        "id": "PysKpFKG0wP0"
      },
      "source": [
        "There are many occasions when you need to *generate* the permutations or\n",
        "combinations of a set, not just count them.\n",
        "\n",
        "There are many algorithms for generating permutations and combinations --- you\n",
        "can find them if you look.\n",
        "\n",
        "For an application, from a biographical sketch about Donald Knuth by Kenneth\n",
        "Rosen, we learn that\n"
      ]
    },
    {
      "cell_type": "markdown",
      "metadata": {
        "id": "bqVdYu870wP0"
      },
      "source": [
        "> \"Knuth grew up in Milwaukee, where his father taught bookkeeping at a Lutheran\n",
        "high school and owned a small printing business. He was an excellent student,\n",
        "earning academic achievement awards. He applied his intelligence in\n",
        "unconventional ways, winning a contest when he was in the eighth grade by\n",
        "finding as many words as possible that could be formed from the letters in\n",
        "\n",
        "---\n",
        "\n",
        "> **Ziegler's Giant Bar**.\n",
        "\n",
        "___\n",
        "\n",
        "> This won a television set for his school and a candy bar for everyone in his class.\n"
      ]
    },
    {
      "cell_type": "markdown",
      "metadata": {
        "id": "jgLo-Rs_0wP1"
      },
      "source": [
        "Knuth found over 4500 words. How many can **you** find?"
      ]
    },
    {
      "cell_type": "markdown",
      "metadata": {
        "id": "Netr2BcqQBmm"
      },
      "source": [
        "## Code"
      ]
    },
    {
      "cell_type": "code",
      "metadata": {
        "id": "4MvtFsiD1Not"
      },
      "source": [
        "from itertools import permutations\n",
        "import nltk\n",
        "from nltk.corpus import words\n",
        "import re"
      ],
      "execution_count": 2,
      "outputs": []
    },
    {
      "cell_type": "markdown",
      "metadata": {
        "id": "fsju2AawZj3w"
      },
      "source": [
        "### Memory Hog"
      ]
    },
    {
      "cell_type": "code",
      "metadata": {
        "id": "jmjEDmYIFmBG"
      },
      "source": [
        "# nltk.download('words')\n",
        "# word_list = words.words()\n",
        "# word_list = [x.lower() for x in word_list]\n",
        "# word_list = [re.sub(\"[^a-z]\", '', x) for x in word_list]\n",
        "\n",
        "# max_word_size = max([len(x) for x in word_list])\n",
        "# word_list_ordered = {}\n",
        "# for i in range(1, max_word_size):\n",
        "#   word_list_ordered[i] = [x for x in word_list if len(x) == i]"
      ],
      "execution_count": 5,
      "outputs": []
    },
    {
      "cell_type": "code",
      "metadata": {
        "id": "22F53g0uOVXJ"
      },
      "source": [
        "# # perm = permutations(\"zieglersgiantbar\", 2)\n",
        "# alphabet = \"zieglersgiantbar\"\n",
        "# # perm = set([''.join(x) for i in range(1,len(alphabet) + 1) for x in list(permutations(alphabet, i))])\n",
        "\n",
        "# valid_eng_perm = []\n",
        "# for i in range(1, len(alphabet) + 1):\n",
        "#   perm = set([''.join(x) for x in permutations(alphabet, i)])\n",
        "#   # eng_perm = [x for x in perm if x in word_list_ordered[i]]\n",
        "#   eng_perm = [x for x in word_list_ordered[i] if x in perm]\n",
        "#   print(f'The number of valid english words of length {i} within \"{alphabet}\" is {len(eng_perm)}')\n",
        "#   valid_eng_perm.append(eng_perm)"
      ],
      "execution_count": 6,
      "outputs": []
    },
    {
      "cell_type": "markdown",
      "metadata": {
        "id": "-U0gckvjZodF"
      },
      "source": [
        "### Optimized Using Gödel Hashes\n"
      ]
    },
    {
      "cell_type": "code",
      "metadata": {
        "colab": {
          "base_uri": "https://localhost:8080/"
        },
        "id": "v-SuPYvZZtfF",
        "outputId": "4a2ff692-1df8-4d7d-b994-b47656ce8593"
      },
      "source": [
        "nltk.download('words')\n",
        "word_list = words.words()\n",
        "word_list = [x.lower() for x in word_list]\n",
        "word_list = [re.sub(\"[^a-z]\", '', x) for x in word_list]"
      ],
      "execution_count": 3,
      "outputs": [
        {
          "output_type": "stream",
          "text": [
            "[nltk_data] Downloading package words to /root/nltk_data...\n",
            "[nltk_data]   Unzipping corpora/words.zip.\n"
          ],
          "name": "stdout"
        }
      ]
    },
    {
      "cell_type": "code",
      "metadata": {
        "id": "I31vsiKhVXzq"
      },
      "source": [
        "prime_list = [2, 3, 5, 7, 11, 13, 17, 19, 23, 29, 31, 37, 41, 43, 47, 53, 59, 61, 67, 71, 30, 73, 79, 83, 89, 97, 101]\n",
        "\n",
        "def godel_subset(subset, superset):\n",
        "  return superset % subset  == 0\n",
        "\n",
        "def encode_set(nset):\n",
        "  return encode_set(nset[1:]) * prime_list[nset[0]] if nset else 1\n",
        "\n",
        "def set_from_string(alpha_text):\n",
        "  return [ord(x) - ord('a') for x in alpha_text]\n",
        "\n",
        "def encode_string(alpha_text):\n",
        "  return encode_set(set_from_string(alpha_text))"
      ],
      "execution_count": 4,
      "outputs": []
    },
    {
      "cell_type": "code",
      "metadata": {
        "id": "uHW7rvtdUvOw"
      },
      "source": [
        "alphabet = \"Ziegler's Giant Bar\"\n",
        "alphabet = alphabet.lower()\n",
        "alphabet = re.sub(\"[^a-z]\", '', alphabet)\n",
        "\n",
        "alphabet_hash = encode_set(set_from_string(alphabet))\n",
        "\n",
        "eng_perm = [x for x in word_list if godel_subset(encode_string(x), alphabet_hash)]"
      ],
      "execution_count": 9,
      "outputs": []
    },
    {
      "cell_type": "code",
      "metadata": {
        "id": "5Pi3dLn2OdLx",
        "colab": {
          "base_uri": "https://localhost:8080/"
        },
        "outputId": "d9f51e12-a55d-4c63-8d28-1dd538481dde"
      },
      "source": [
        "len(eng_perm)"
      ],
      "execution_count": 10,
      "outputs": [
        {
          "output_type": "execute_result",
          "data": {
            "text/plain": [
              "3298"
            ]
          },
          "metadata": {
            "tags": []
          },
          "execution_count": 10
        }
      ]
    },
    {
      "cell_type": "markdown",
      "metadata": {
        "id": "D1R-ZIFmcn20"
      },
      "source": [
        "## Sources\n",
        "- https://www.geeksforgeeks.org/permutation-and-combination-in-python/\n",
        "- https://www.geeksforgeeks.org/python-program-to-convert-a-tuple-to-a-string/\n",
        "- https://www.datasciencebytes.com/bytes/2014/11/03/get-a-list-of-all-english-words-in-python/\n",
        "- https://stackoverflow.com/questions/3788870/how-to-check-if-a-word-is-an-english-word-with-python\n"
      ]
    },
    {
      "cell_type": "markdown",
      "metadata": {
        "id": "mVIyjT9OcO4n"
      },
      "source": [
        "## Thoughts"
      ]
    },
    {
      "cell_type": "markdown",
      "metadata": {
        "id": "iLNTOscFawvo"
      },
      "source": [
        "I was only able to find 3,298 valid words in English from the permutations of the letters in \"Ziegler's Giant Bar.\" I can think of three possible explanations for finding fewer words than Knuth: I had an incomplete list of possible english words, Knuth's words were not limited to English, or an error was made by Knuth."
      ]
    }
  ]
}