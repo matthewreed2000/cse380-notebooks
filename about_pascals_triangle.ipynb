{
  "nbformat": 4,
  "nbformat_minor": 0,
  "metadata": {
    "kernelspec": {
      "display_name": "Python 3",
      "language": "python",
      "name": "python3"
    },
    "language_info": {
      "codemirror_mode": {
        "name": "ipython",
        "version": 3
      },
      "file_extension": ".py",
      "mimetype": "text/x-python",
      "name": "python",
      "nbconvert_exporter": "python",
      "pygments_lexer": "ipython3",
      "version": "3.9.0"
    },
    "colab": {
      "name": "about_pascals_triangle.ipynb",
      "provenance": [],
      "include_colab_link": true
    }
  },
  "cells": [
    {
      "cell_type": "markdown",
      "metadata": {
        "id": "view-in-github",
        "colab_type": "text"
      },
      "source": [
        "<a href=\"https://colab.research.google.com/github/matthewreed2000/cse380-notebooks/blob/master/about_pascals_triangle.ipynb\" target=\"_parent\"><img src=\"https://colab.research.google.com/assets/colab-badge.svg\" alt=\"Open In Colab\"/></a>"
      ]
    },
    {
      "cell_type": "markdown",
      "metadata": {
        "id": "NnLACzVD4XhX"
      },
      "source": [
        "# About Pascal’s Triangle\n",
        "## Class Directed Learning\n",
        "### Due: Tuesday, 2 February 2021, 11:59 pm\n",
        "\\\\\n",
        "*Matthew Reed*"
      ]
    },
    {
      "cell_type": "markdown",
      "metadata": {
        "id": "vMbwcM094Xha"
      },
      "source": [
        "## A Helper Function\n",
        "Exercise 253 on page 161 shows a recursive definition of `nCk`. Here's a much more efficient way to compute binomial coefficients, which perhaps you can profitably use in your investigations:\n"
      ]
    },
    {
      "cell_type": "code",
      "metadata": {
        "id": "yJlQoocu4Xhb"
      },
      "source": [
        "from math import gcd\n",
        "\n",
        "def nCk(n, k):\n",
        "  if k < 0 or k > n:\n",
        "    return 0\n",
        "  else:\n",
        "    result = 1\n",
        "    d = 1\n",
        "    g = 1\n",
        "    m = min(k, n - k)\n",
        "    while (d <= m):\n",
        "      g = gcd(result, d)\n",
        "      result = n * (result // g)\n",
        "      result = (result // (d // g))\n",
        "      n -= 1\n",
        "      d += 1\n",
        "    return result"
      ],
      "execution_count": 2,
      "outputs": []
    },
    {
      "cell_type": "markdown",
      "metadata": {
        "id": "FUX5vuif4Xhb"
      },
      "source": [
        "## Predominant and Fundamental\n",
        "The predominant pattern, the fundamental symmetry in Pascal's triangle is captured by the identity:\n",
        "$${n \\choose k} = {n \\choose n - k}$$\n",
        "## Identify Identities\n",
        "Here are two different identities that point out the same pattern in Pascal's triangle. What is the name of this pattern?\n",
        "### Identity 1\n",
        "For nonnegative integers $r$ and $n$:\n",
        "$$\\sum^n_{k=0} {r+k \\choose k} = {r+n+1 \\choose n}$$\n",
        "### Identity 2\n",
        "For nonnegative integers $m$ and $n$:\n",
        "$$\\sum^n_{k=0} {k \\choose m} = {n+1 \\choose m+1}$$"
      ]
    },
    {
      "cell_type": "markdown",
      "metadata": {
        "id": "rTZueZMfQH61"
      },
      "source": [
        "### Testing Things Out"
      ]
    },
    {
      "cell_type": "code",
      "metadata": {
        "id": "MZNWOk0J8rDX",
        "colab": {
          "base_uri": "https://localhost:8080/"
        },
        "outputId": "b2919a14-6d71-488f-883d-ad7e1da6c5c7"
      },
      "source": [
        "nCk(0, 2) + nCk(1, 2) + nCk(2, 2)"
      ],
      "execution_count": null,
      "outputs": [
        {
          "output_type": "execute_result",
          "data": {
            "text/plain": [
              "1"
            ]
          },
          "metadata": {
            "tags": []
          },
          "execution_count": 2
        }
      ]
    },
    {
      "cell_type": "code",
      "metadata": {
        "id": "R-sGASPb86-M",
        "colab": {
          "base_uri": "https://localhost:8080/"
        },
        "outputId": "5e0252d0-c262-4b47-cb17-fee7634cd3c6"
      },
      "source": [
        "nCk(3, 3)"
      ],
      "execution_count": null,
      "outputs": [
        {
          "output_type": "execute_result",
          "data": {
            "text/plain": [
              "1"
            ]
          },
          "metadata": {
            "tags": []
          },
          "execution_count": 3
        }
      ]
    },
    {
      "cell_type": "code",
      "metadata": {
        "id": "PF0t4u4-9AMU",
        "colab": {
          "base_uri": "https://localhost:8080/"
        },
        "outputId": "6c6f6b46-afe4-4c70-e9d7-8e2612f599e2"
      },
      "source": [
        "nCk(0, 2)"
      ],
      "execution_count": null,
      "outputs": [
        {
          "output_type": "execute_result",
          "data": {
            "text/plain": [
              "0"
            ]
          },
          "metadata": {
            "tags": []
          },
          "execution_count": 4
        }
      ]
    },
    {
      "cell_type": "code",
      "metadata": {
        "id": "n74jQscdQopw",
        "colab": {
          "base_uri": "https://localhost:8080/"
        },
        "outputId": "36b66a69-10d8-433a-f927-30f0431f0f8e"
      },
      "source": [
        "sum([nCk(x, 2) for x in range(0, 11 + 1)])"
      ],
      "execution_count": null,
      "outputs": [
        {
          "output_type": "execute_result",
          "data": {
            "text/plain": [
              "220"
            ]
          },
          "metadata": {
            "tags": []
          },
          "execution_count": 5
        }
      ]
    },
    {
      "cell_type": "code",
      "metadata": {
        "id": "3lzJp2D_SHm1",
        "colab": {
          "base_uri": "https://localhost:8080/"
        },
        "outputId": "98699a72-b7bc-4887-8401-2114807512d9"
      },
      "source": [
        "sum([nCk(8 + k, k) for k in range(0, 3 + 1)])"
      ],
      "execution_count": null,
      "outputs": [
        {
          "output_type": "execute_result",
          "data": {
            "text/plain": [
              "220"
            ]
          },
          "metadata": {
            "tags": []
          },
          "execution_count": 6
        }
      ]
    },
    {
      "cell_type": "code",
      "metadata": {
        "id": "16ZzWi5rQ-7S",
        "colab": {
          "base_uri": "https://localhost:8080/"
        },
        "outputId": "5d59f2a6-7e64-446e-a2b7-98e33edb9cac"
      },
      "source": [
        "nCk(12, 3)"
      ],
      "execution_count": null,
      "outputs": [
        {
          "output_type": "execute_result",
          "data": {
            "text/plain": [
              "220"
            ]
          },
          "metadata": {
            "tags": []
          },
          "execution_count": 7
        }
      ]
    },
    {
      "cell_type": "markdown",
      "metadata": {
        "id": "ZgysMfpnQN3w"
      },
      "source": [
        "### Thoughts"
      ]
    },
    {
      "cell_type": "markdown",
      "metadata": {
        "id": "yLwM8ibBUg5x"
      },
      "source": [
        "I could not find the name for the first identity. However, Identity 2 is called the \"Hockey-Stick Identity.\" This is because it describes a relationship between a diagonal and the number perpendicular to the edge of the diagonal within Pascal's triangle. Following this path looks kind of like a hockey stick, with one long diagonal and one short diagonal perpendicular to it.\n",
        "\n",
        "See Also:\n",
        "- https://artofproblemsolving.com/wiki/index.php/Combinatorial_identity\n",
        "- https://proofwiki.org/wiki/Sum_of_r%2Bk_Choose_k_up_to_n\n",
        "- https://proofwiki.org/wiki/Rising_Sum_of_Binomial_Coefficients"
      ]
    },
    {
      "cell_type": "markdown",
      "metadata": {
        "id": "IGM2FyFz4Xhb"
      },
      "source": [
        "# Investigate A Possible Relationship\n",
        "Does any row in Pascal's Triangle have the Fibonacci numbers' relationship between three consecutive entries? In other words, where x, y, and z are three consecutive entries in a single row, does x + y = z?\n",
        "\n",
        "  The number of rows where this relationship could possibly hold is:\n",
        "  - [X] Zero.\n",
        "  - [ ] At least one.\n",
        "  - [ ] At most one.\n",
        "  - [ ] Exactly one.\n",
        "  - [ ] It cannot be determined."
      ]
    },
    {
      "cell_type": "markdown",
      "metadata": {
        "id": "CqUEoQ6TRQlB"
      },
      "source": [
        "In order for this to occur, $n \\choose k$ must equal ${n \\choose {k - 1}} + {n \\choose {k - 2}}$ for some integer n: n > 1, and some integer k : 1 < k <= n.\n",
        "\n",
        "By [Pascal's Rule](https://proofwiki.org/wiki/Pascal%27s_Rule): ${n \\choose {k - 2}} + {n \\choose {k - 1}} = {{n + 1} \\choose {k - 1}}$\n",
        "\n",
        "Let ${n \\choose k} = {{n + 1} \\choose {k - 1}}$:\n",
        "$$\n",
        "\\frac{n!}{k!(n-k)!} = \\frac{(n + 1)!}{(k - 1)!((n + 1)-(k - 1))!}\\\\\n",
        "\\frac{n!}{k!(n-k)!} = \\frac{(n + 1)!}{(k - 1)!(n - k + 2)!}\\\\\n",
        "n!(n-k+1)(n-k+2) = (n+1)!k\\\\\n",
        "(n-k+1)(n-k+2) = (n+1)k\n",
        "$$\n",
        "Which, accoding to [WolframAlpha](https://www.wolframalpha.com/input/?i=%28n-k%2B1%29%28n-k%2B2%29%2F%28%28n%2B1%29*k%29+%3D+1) is only true for integers when n=1 and k=1. Since both must be strictly greater than 1, this is impossible."
      ]
    },
    {
      "cell_type": "markdown",
      "metadata": {
        "id": "exTvm7nB4Xhb"
      },
      "source": [
        "# Investigate Another Possible Relationship\n",
        "Does any row in Pascal's Triangle have three consecutive entries in the ratio 1:2:3? (12:24:36 is an example of three numbers in a 1:2:3 ratio.)?\n",
        "\n",
        "  The number of rows where this relationship could possibly hold is:\n",
        "  - [ ] Zero.\n",
        "  - [X] At least one.\n",
        "  - [ ] At most one.\n",
        "  - [ ] Exactly one.\n",
        "  - [ ] It cannot be determined."
      ]
    },
    {
      "cell_type": "markdown",
      "metadata": {
        "id": "H8X-KzglSB-A"
      },
      "source": [
        "Thanks to [this Stack Exchange forum](https://math.stackexchange.com/questions/1495107/find-three-consecutive-entries-of-a-row-of-pascal-triangle-that-are-in-the-ratio), for the first value in the sequence, $n \\choose k$, n and k must make the following equations true:\n",
        "$n = 3k+2$ and $3(k+1)(k+2)=(n-k-1)(n-k)$\n",
        "\n",
        "Thus,\n",
        "$$\n",
        "3(k + 1)(k + 2) = (3k+2-k-1)(3k+2-k)\\\\\n",
        "3(k+1)(k+2) = (2k+1)(2k+2)\\\\\n",
        "3(k+1)(k+2) = 2(2k+1)(k+1)\\\\\n",
        "3k+6 = 4k+2\\\\\n",
        "k=4\n",
        "$$\n",
        "And\n",
        "$$\n",
        "n = 3(4)+2\n",
        "n = 14\n",
        "$$"
      ]
    },
    {
      "cell_type": "code",
      "metadata": {
        "id": "j4tNFNRUjVda",
        "outputId": "ed83f7dc-723d-44cb-d4e7-c6cb6e7e3198",
        "colab": {
          "base_uri": "https://localhost:8080/"
        }
      },
      "source": [
        "print(nCk(14,4), nCk(14,5), nCk(14,6))"
      ],
      "execution_count": 3,
      "outputs": [
        {
          "output_type": "stream",
          "text": [
            "1001 2002 3003\n"
          ],
          "name": "stdout"
        }
      ]
    }
  ]
}