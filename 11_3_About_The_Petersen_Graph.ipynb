{
  "nbformat": 4,
  "nbformat_minor": 0,
  "metadata": {
    "colab": {
      "name": "11_3_About_The_Petersen_Graph.ipynb",
      "provenance": [],
      "include_colab_link": true
    },
    "kernelspec": {
      "name": "python3",
      "display_name": "Python 3"
    }
  },
  "cells": [
    {
      "cell_type": "markdown",
      "metadata": {
        "id": "view-in-github",
        "colab_type": "text"
      },
      "source": [
        "<a href=\"https://colab.research.google.com/github/matthewreed2000/cse380-notebooks/blob/master/11_3_About_The_Petersen_Graph.ipynb\" target=\"_parent\"><img src=\"https://colab.research.google.com/assets/colab-badge.svg\" alt=\"Open In Colab\"/></a>"
      ]
    },
    {
      "cell_type": "markdown",
      "metadata": {
        "id": "0lYSr_8JNUpQ"
      },
      "source": [
        "# About The Petersen Graph\n",
        "## Class Directed Learning\n",
        "### Due: Tuesday, 16 March 2021, 11:59 pm\n",
        "\n",
        "*Matthew Reed*\n",
        "\n",
        "In collaboration with:\n",
        "- Claire Hocker\n",
        "- Tim Taylor"
      ]
    },
    {
      "cell_type": "markdown",
      "metadata": {
        "id": "0PuwZHqzNfTa"
      },
      "source": [
        "## Explore and Wonder"
      ]
    },
    {
      "cell_type": "markdown",
      "metadata": {
        "id": "Gsu1FnbuNptP"
      },
      "source": [
        "The Petersen graph is described as the complement of the line graph of $K_5$.\n",
        "\n",
        "Draw each step of this construction using any graph-drawing tools in your toolbox.\n",
        "\n",
        "Teach one another how to use the tools you each have."
      ]
    },
    {
      "cell_type": "markdown",
      "metadata": {
        "id": "anHl0_porX-Z"
      },
      "source": [
        "## Thoughts"
      ]
    },
    {
      "cell_type": "markdown",
      "metadata": {
        "id": "fjL5wi9ArPnp"
      },
      "source": [
        "What is meant by line graph of $K_5$?"
      ]
    },
    {
      "cell_type": "markdown",
      "metadata": {
        "id": "3uC2KbYSqRXm"
      },
      "source": [
        "### From My Ponder & Prove 10"
      ]
    },
    {
      "cell_type": "code",
      "metadata": {
        "id": "ndZxSeNX58Lu",
        "outputId": "8d8e0841-1a1c-4f5c-d448-d8287f42cc76",
        "colab": {
          "base_uri": "https://localhost:8080/"
        }
      },
      "source": [
        "!pip install graphviz"
      ],
      "execution_count": 4,
      "outputs": [
        {
          "output_type": "stream",
          "text": [
            "Requirement already satisfied: graphviz in /usr/local/lib/python3.7/dist-packages (0.10.1)\n"
          ],
          "name": "stdout"
        }
      ]
    },
    {
      "cell_type": "code",
      "metadata": {
        "id": "3OpOHx0P6nRE"
      },
      "source": [
        "from graphviz import Graph, Source\n",
        "from IPython.display import SVG, display"
      ],
      "execution_count": 5,
      "outputs": []
    },
    {
      "cell_type": "code",
      "metadata": {
        "id": "XRuUk2iK6rUD"
      },
      "source": [
        "nodes = ['a', 'b', 'c', 'd', 'e', 'f', 'g', 'h', 'i', 'j']\n",
        "# links = [\n",
        "#          ('a', 'b'),\n",
        "#          ('b', 'c'),\n",
        "#          ('c', 'd'),\n",
        "#          ('d', 'e'),\n",
        "#          ('e', 'a'),\n",
        "#          ('a', 'f'),\n",
        "#          ('b', 'g'),\n",
        "#          ('c', 'h'),\n",
        "#          ('d', 'i'),\n",
        "#          ('e', 'j'),\n",
        "#          ('f', 'h'),\n",
        "#          ('g', 'i'),\n",
        "#          ('h', 'j'),\n",
        "#          ('i', 'f'),\n",
        "#          ('j', 'g')\n",
        "# ]\n",
        "\n",
        "links = [\n",
        "         ('a', 'd'),\n",
        "         ('d', 'j'),\n",
        "         ('j', 'i'),\n",
        "         ('i', 'b'),\n",
        "         ('b', 'a'),\n",
        "         ('a', 'c'),\n",
        "         ('d', 'f'),\n",
        "         ('j', 'h'),\n",
        "         ('i', 'g'),\n",
        "         ('b', 'e'),\n",
        "         ('c', 'h'),\n",
        "         ('f', 'g'),\n",
        "         ('h', 'e'),\n",
        "         ('g', 'c'),\n",
        "         ('e', 'f')\n",
        "]"
      ],
      "execution_count": 6,
      "outputs": []
    },
    {
      "cell_type": "code",
      "metadata": {
        "id": "gOqzHsn079Eg",
        "outputId": "8d1c76be-4831-41ac-dfe6-60077fd5c791",
        "colab": {
          "base_uri": "https://localhost:8080/",
          "height": 752
        }
      },
      "source": [
        "dot = Graph(format='svg')\n",
        "\n",
        "[*map(lambda n: dot.node(str(n)), nodes)]\n",
        "[*map(lambda l: dot.edge(str(l[0]), str(l[1])), links)]\n",
        "\n",
        "# print(dot)\n",
        "dot.render('test-output/graph')\n",
        "display(SVG('test-output/graph.svg'))"
      ],
      "execution_count": 7,
      "outputs": [
        {
          "output_type": "display_data",
          "data": {
            "text/plain": [
              "<IPython.core.display.SVG object>"
            ],
            "image/svg+xml": "<svg height=\"548pt\" viewBox=\"0.00 0.00 255.00 548.00\" width=\"255pt\" xmlns=\"http://www.w3.org/2000/svg\" xmlns:xlink=\"http://www.w3.org/1999/xlink\">\n<g class=\"graph\" id=\"graph0\" transform=\"scale(1 1) rotate(0) translate(4 544)\">\n<title>%3</title>\n<polygon fill=\"#ffffff\" points=\"-4,4 -4,-544 251,-544 251,4 -4,4\" stroke=\"transparent\"/>\n<!-- a -->\n<g class=\"node\" id=\"node1\">\n<title>a</title>\n<ellipse cx=\"137\" cy=\"-522\" fill=\"none\" rx=\"27\" ry=\"18\" stroke=\"#000000\"/>\n<text fill=\"#000000\" font-family=\"Times,serif\" font-size=\"14.00\" text-anchor=\"middle\" x=\"137\" y=\"-518.3\">a</text>\n</g>\n<!-- c -->\n<g class=\"node\" id=\"node3\">\n<title>c</title>\n<ellipse cx=\"192\" cy=\"-378\" fill=\"none\" rx=\"27\" ry=\"18\" stroke=\"#000000\"/>\n<text fill=\"#000000\" font-family=\"Times,serif\" font-size=\"14.00\" text-anchor=\"middle\" x=\"192\" y=\"-374.3\">c</text>\n</g>\n<!-- a&#45;&#45;c -->\n<g class=\"edge\" id=\"edge6\">\n<title>a--c</title>\n<path d=\"M143.7441,-504.3428C154.3001,-476.7053 174.6109,-423.5278 185.2008,-395.8017\" fill=\"none\" stroke=\"#000000\"/>\n</g>\n<!-- d -->\n<g class=\"node\" id=\"node4\">\n<title>d</title>\n<ellipse cx=\"82\" cy=\"-450\" fill=\"none\" rx=\"27\" ry=\"18\" stroke=\"#000000\"/>\n<text fill=\"#000000\" font-family=\"Times,serif\" font-size=\"14.00\" text-anchor=\"middle\" x=\"82\" y=\"-446.3\">d</text>\n</g>\n<!-- a&#45;&#45;d -->\n<g class=\"edge\" id=\"edge1\">\n<title>a--d</title>\n<path d=\"M124.5196,-505.6621C115.5186,-493.8788 103.4207,-478.0416 94.431,-466.2733\" fill=\"none\" stroke=\"#000000\"/>\n</g>\n<!-- b -->\n<g class=\"node\" id=\"node2\">\n<title>b</title>\n<ellipse cx=\"137\" cy=\"-234\" fill=\"none\" rx=\"27\" ry=\"18\" stroke=\"#000000\"/>\n<text fill=\"#000000\" font-family=\"Times,serif\" font-size=\"14.00\" text-anchor=\"middle\" x=\"137\" y=\"-230.3\">b</text>\n</g>\n<!-- b&#45;&#45;a -->\n<g class=\"edge\" id=\"edge5\">\n<title>b--a</title>\n<path d=\"M137,-252.0089C137,-303.7213 137,-452.2634 137,-503.9843\" fill=\"none\" stroke=\"#000000\"/>\n</g>\n<!-- e -->\n<g class=\"node\" id=\"node5\">\n<title>e</title>\n<ellipse cx=\"137\" cy=\"-162\" fill=\"none\" rx=\"27\" ry=\"18\" stroke=\"#000000\"/>\n<text fill=\"#000000\" font-family=\"Times,serif\" font-size=\"14.00\" text-anchor=\"middle\" x=\"137\" y=\"-158.3\">e</text>\n</g>\n<!-- b&#45;&#45;e -->\n<g class=\"edge\" id=\"edge10\">\n<title>b--e</title>\n<path d=\"M137,-215.8314C137,-205 137,-191.2876 137,-180.4133\" fill=\"none\" stroke=\"#000000\"/>\n</g>\n<!-- h -->\n<g class=\"node\" id=\"node8\">\n<title>h</title>\n<ellipse cx=\"192\" cy=\"-306\" fill=\"none\" rx=\"27\" ry=\"18\" stroke=\"#000000\"/>\n<text fill=\"#000000\" font-family=\"Times,serif\" font-size=\"14.00\" text-anchor=\"middle\" x=\"192\" y=\"-302.3\">h</text>\n</g>\n<!-- c&#45;&#45;h -->\n<g class=\"edge\" id=\"edge11\">\n<title>c--h</title>\n<path d=\"M192,-359.8314C192,-349 192,-335.2876 192,-324.4133\" fill=\"none\" stroke=\"#000000\"/>\n</g>\n<!-- f -->\n<g class=\"node\" id=\"node6\">\n<title>f</title>\n<ellipse cx=\"27\" cy=\"-90\" fill=\"none\" rx=\"27\" ry=\"18\" stroke=\"#000000\"/>\n<text fill=\"#000000\" font-family=\"Times,serif\" font-size=\"14.00\" text-anchor=\"middle\" x=\"27\" y=\"-86.3\">f</text>\n</g>\n<!-- d&#45;&#45;f -->\n<g class=\"edge\" id=\"edge7\">\n<title>d--f</title>\n<path d=\"M68.9011,-433.9153C61.1559,-423.6387 51.7648,-409.7102 46,-396 30.1542,-358.3142 27,-346.8816 27,-306 27,-306 27,-306 27,-234 27,-188.75 27,-135.5017 27,-108.1854\" fill=\"none\" stroke=\"#000000\"/>\n</g>\n<!-- j -->\n<g class=\"node\" id=\"node10\">\n<title>j</title>\n<ellipse cx=\"82\" cy=\"-378\" fill=\"none\" rx=\"27\" ry=\"18\" stroke=\"#000000\"/>\n<text fill=\"#000000\" font-family=\"Times,serif\" font-size=\"14.00\" text-anchor=\"middle\" x=\"82\" y=\"-374.3\">j</text>\n</g>\n<!-- d&#45;&#45;j -->\n<g class=\"edge\" id=\"edge2\">\n<title>d--j</title>\n<path d=\"M82,-431.8314C82,-421 82,-407.2876 82,-396.4133\" fill=\"none\" stroke=\"#000000\"/>\n</g>\n<!-- e&#45;&#45;f -->\n<g class=\"edge\" id=\"edge15\">\n<title>e--f</title>\n<path d=\"M117.5874,-149.2936C97.6039,-136.2135 66.6362,-115.9437 46.5885,-102.8216\" fill=\"none\" stroke=\"#000000\"/>\n</g>\n<!-- g -->\n<g class=\"node\" id=\"node7\">\n<title>g</title>\n<ellipse cx=\"82\" cy=\"-18\" fill=\"none\" rx=\"27\" ry=\"18\" stroke=\"#000000\"/>\n<text fill=\"#000000\" font-family=\"Times,serif\" font-size=\"14.00\" text-anchor=\"middle\" x=\"82\" y=\"-14.3\">g</text>\n</g>\n<!-- f&#45;&#45;g -->\n<g class=\"edge\" id=\"edge12\">\n<title>f--g</title>\n<path d=\"M39.4804,-73.6621C48.4814,-61.8788 60.5793,-46.0416 69.569,-34.2733\" fill=\"none\" stroke=\"#000000\"/>\n</g>\n<!-- g&#45;&#45;c -->\n<g class=\"edge\" id=\"edge14\">\n<title>g--c</title>\n<path d=\"M106.3463,-26.2685C152.2438,-43.576 247,-88.2396 247,-162 247,-234 247,-234 247,-234 247,-274.8816 243.8458,-286.3142 228,-324 222.2352,-337.7102 212.8441,-351.6387 205.0989,-361.9153\" fill=\"none\" stroke=\"#000000\"/>\n</g>\n<!-- h&#45;&#45;e -->\n<g class=\"edge\" id=\"edge13\">\n<title>h--e</title>\n<path d=\"M190.2095,-287.8083C187.9112,-269.1875 182.9655,-239.7008 173,-216 167.2352,-202.2898 157.8441,-188.3613 150.0989,-178.0847\" fill=\"none\" stroke=\"#000000\"/>\n</g>\n<!-- i -->\n<g class=\"node\" id=\"node9\">\n<title>i</title>\n<ellipse cx=\"82\" cy=\"-306\" fill=\"none\" rx=\"27\" ry=\"18\" stroke=\"#000000\"/>\n<text fill=\"#000000\" font-family=\"Times,serif\" font-size=\"14.00\" text-anchor=\"middle\" x=\"82\" y=\"-302.3\">i</text>\n</g>\n<!-- i&#45;&#45;b -->\n<g class=\"edge\" id=\"edge4\">\n<title>i--b</title>\n<path d=\"M94.4804,-289.6621C103.4814,-277.8788 115.5793,-262.0416 124.569,-250.2733\" fill=\"none\" stroke=\"#000000\"/>\n</g>\n<!-- i&#45;&#45;g -->\n<g class=\"edge\" id=\"edge9\">\n<title>i--g</title>\n<path d=\"M82,-287.9843C82,-236.2634 82,-87.7213 82,-36.0089\" fill=\"none\" stroke=\"#000000\"/>\n</g>\n<!-- j&#45;&#45;h -->\n<g class=\"edge\" id=\"edge8\">\n<title>j--h</title>\n<path d=\"M101.4126,-365.2936C121.3961,-352.2135 152.3638,-331.9437 172.4115,-318.8216\" fill=\"none\" stroke=\"#000000\"/>\n</g>\n<!-- j&#45;&#45;i -->\n<g class=\"edge\" id=\"edge3\">\n<title>j--i</title>\n<path d=\"M82,-359.8314C82,-349 82,-335.2876 82,-324.4133\" fill=\"none\" stroke=\"#000000\"/>\n</g>\n</g>\n</svg>"
          },
          "metadata": {
            "tags": []
          }
        }
      ]
    },
    {
      "cell_type": "markdown",
      "metadata": {
        "id": "a9bIShXuqIHH"
      },
      "source": [
        "### Experimentation"
      ]
    },
    {
      "cell_type": "code",
      "metadata": {
        "id": "SYzJ4FrNqHaH"
      },
      "source": [
        "dot = Source('''graph {\n",
        "  a -- b\n",
        "}''')"
      ],
      "execution_count": 8,
      "outputs": []
    },
    {
      "cell_type": "code",
      "metadata": {
        "id": "e8wuta-ICOtG",
        "outputId": "6643887b-9aa3-440e-a039-e6aadbd0386c",
        "colab": {
          "base_uri": "https://localhost:8080/",
          "height": 176
        }
      },
      "source": [
        "dot"
      ],
      "execution_count": 9,
      "outputs": [
        {
          "output_type": "execute_result",
          "data": {
            "text/plain": [
              "<graphviz.files.Source at 0x7f6284312cd0>"
            ],
            "image/svg+xml": "<?xml version=\"1.0\" encoding=\"UTF-8\" standalone=\"no\"?>\n<!DOCTYPE svg PUBLIC \"-//W3C//DTD SVG 1.1//EN\"\n \"http://www.w3.org/Graphics/SVG/1.1/DTD/svg11.dtd\">\n<!-- Generated by graphviz version 2.40.1 (20161225.0304)\n -->\n<!-- Title: %3 Pages: 1 -->\n<svg width=\"62pt\" height=\"116pt\"\n viewBox=\"0.00 0.00 62.00 116.00\" xmlns=\"http://www.w3.org/2000/svg\" xmlns:xlink=\"http://www.w3.org/1999/xlink\">\n<g id=\"graph0\" class=\"graph\" transform=\"scale(1 1) rotate(0) translate(4 112)\">\n<title>%3</title>\n<polygon fill=\"#ffffff\" stroke=\"transparent\" points=\"-4,4 -4,-112 58,-112 58,4 -4,4\"/>\n<!-- a -->\n<g id=\"node1\" class=\"node\">\n<title>a</title>\n<ellipse fill=\"none\" stroke=\"#000000\" cx=\"27\" cy=\"-90\" rx=\"27\" ry=\"18\"/>\n<text text-anchor=\"middle\" x=\"27\" y=\"-86.3\" font-family=\"Times,serif\" font-size=\"14.00\" fill=\"#000000\">a</text>\n</g>\n<!-- b -->\n<g id=\"node2\" class=\"node\">\n<title>b</title>\n<ellipse fill=\"none\" stroke=\"#000000\" cx=\"27\" cy=\"-18\" rx=\"27\" ry=\"18\"/>\n<text text-anchor=\"middle\" x=\"27\" y=\"-14.3\" font-family=\"Times,serif\" font-size=\"14.00\" fill=\"#000000\">b</text>\n</g>\n<!-- a&#45;&#45;b -->\n<g id=\"edge1\" class=\"edge\">\n<title>a&#45;&#45;b</title>\n<path fill=\"none\" stroke=\"#000000\" d=\"M27,-71.8314C27,-61 27,-47.2876 27,-36.4133\"/>\n</g>\n</g>\n</svg>\n"
          },
          "metadata": {
            "tags": []
          },
          "execution_count": 9
        }
      ]
    },
    {
      "cell_type": "code",
      "metadata": {
        "id": "hg_t14KY7_lv"
      },
      "source": [
        ""
      ],
      "execution_count": null,
      "outputs": []
    }
  ]
}