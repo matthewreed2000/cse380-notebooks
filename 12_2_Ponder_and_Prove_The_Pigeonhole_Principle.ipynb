{
  "nbformat": 4,
  "nbformat_minor": 0,
  "metadata": {
    "colab": {
      "name": "12_2_Ponder_and_Prove_The_Pigeonhole_Principle.ipynb",
      "provenance": [],
      "include_colab_link": true
    },
    "kernelspec": {
      "name": "python3",
      "display_name": "Python 3"
    },
    "language_info": {
      "name": "python"
    }
  },
  "cells": [
    {
      "cell_type": "markdown",
      "metadata": {
        "id": "view-in-github",
        "colab_type": "text"
      },
      "source": [
        "<a href=\"https://colab.research.google.com/github/matthewreed2000/cse380-notebooks/blob/master/12_2_Ponder_and_Prove_The_Pigeonhole_Principle.ipynb\" target=\"_parent\"><img src=\"https://colab.research.google.com/assets/colab-badge.svg\" alt=\"Open In Colab\"/></a>"
      ]
    },
    {
      "cell_type": "markdown",
      "metadata": {
        "id": "ivY_Ypmxx7Vm"
      },
      "source": [
        "# Ponder and Prove The Pigeonhole Principle\n",
        "## Due: Saturday, 27 March 2021\n",
        "\n",
        "*Matthew Reed*\n",
        "\n",
        "In collaboration with:\n",
        "- Davis Kerr\n",
        "- Brayden Whitlock\n",
        "- Paul Semadeni"
      ]
    },
    {
      "cell_type": "markdown",
      "metadata": {
        "id": "zF2K38sxyH5Z"
      },
      "source": [
        "## Exploration"
      ]
    },
    {
      "cell_type": "markdown",
      "metadata": {
        "id": "uBgYLYK5yJzk"
      },
      "source": [
        "You are invited to explore some of the ramifications of the *Pigeonhole Principle*, a fascinating counting principle belonging to combinatorics.\n"
      ]
    },
    {
      "cell_type": "markdown",
      "metadata": {
        "id": "cIS4n3DpyXA1"
      },
      "source": [
        "### Requirements"
      ]
    },
    {
      "cell_type": "markdown",
      "metadata": {
        "id": "FqgealMfyZc8"
      },
      "source": [
        "Read Brother Kent Bessey's essay entitled *Pigeons and Pigeonholes*, think about and explore the topics therein, and write your response thereto.\n",
        "\n",
        "Include in your response a description of a discussion about this essay that you will have had with someone *not in the class* (nor in any of the STEM majors). This person can be a spouse, friend, roommate, or relative. The point is to find someone who is not mathematically strong, and has probably never heard of the Pigeonhole Principle, or combinatorics (or discrete mathematics) in general."
      ]
    },
    {
      "cell_type": "markdown",
      "metadata": {
        "id": "aPEEcqUGzFds"
      },
      "source": [
        "#### Copyright Note"
      ]
    },
    {
      "cell_type": "markdown",
      "metadata": {
        "id": "9EPgpQ0hzHr5"
      },
      "source": [
        "Brother Kent A. Bessey, Professor of Mathematics at BYU-Idaho, holds the copyright to this essay, which means:\n",
        "\n",
        "> All rights reserved (by him). Reproduced by permission (from him).\n",
        "Read-only. Please do not copy, print, transmit or save a copy of\n",
        "this work.\n",
        "\n",
        "He has authorized your temporary use of his work, which [you can find here](https://firstthreeodds.org/17657741833134731255/pigeons-and-pigeonholes.pdf)."
      ]
    },
    {
      "cell_type": "markdown",
      "metadata": {
        "id": "vRKIt3NOzkwH"
      },
      "source": [
        "### Concretize the Abstract by Writing Some Code"
      ]
    },
    {
      "cell_type": "markdown",
      "metadata": {
        "id": "ngXSoVu3znIJ"
      },
      "source": [
        "Specifically, write some Python code to help you figure out the problem on page 40, which Brother Bessey prefaces by saying:\n",
        "\n",
        "> I leave it to the reader to verify the calculations for a final (albeit challenging) exercise ...!\n",
        "\n",
        "Include the results of your grappling with this problem, and note the two stubbed functions below that you must flesh out in order to verify the calculations and explain the hows and whys."
      ]
    },
    {
      "cell_type": "markdown",
      "metadata": {
        "id": "EBQNhzqGzzIF"
      },
      "source": [
        "#### Stub Code"
      ]
    },
    {
      "cell_type": "code",
      "metadata": {
        "id": "fCOUkHjqz10k"
      },
      "source": [
        "from math import ceil\n",
        "\n",
        "def calculate_number_of_possible_initials_including_middle_initial_if_any(n=26):\n",
        "  return n * n * (n + 1)\n",
        "  \n",
        "# def pigeonhole_from_pigeon(pigeon_represented_as_a_person_with_traits):\n",
        "def pigeonhole_from_pigeon(pigeon):\n",
        "  tf_categories = ['LDS', 'Likes Cats', 'Born Before', 'Wears Contacts', 'Bites Fingernails', 'Lives Close']\n",
        "  name = pigeon['Name'].split(' ')\n",
        "  value_string = name[0][0] + (name[1][0] if len(name) > 2 else ' ') + name[-1][0] + ':' + ''.join([str(int(pigeon[x])) for x in tf_categories])\n",
        "  assert len(value_string) == 10\n",
        "  assert calculate_number_of_possible_initials_including_middle_initial_if_any(26) * 2 ** 6 > 10 ** 6\n",
        "  assert calculate_number_of_possible_initials_including_middle_initial_if_any(26) * 2 ** 6 < 1787065\n",
        "  return value_string"
      ],
      "execution_count": null,
      "outputs": []
    },
    {
      "cell_type": "code",
      "metadata": {
        "id": "RU5rbTkZvU97",
        "colab": {
          "base_uri": "https://localhost:8080/"
        },
        "outputId": "0543464c-583d-47a2-a39e-9026f6dc92f8"
      },
      "source": [
        "calculate_number_of_possible_initials_including_middle_initial_if_any()"
      ],
      "execution_count": null,
      "outputs": [
        {
          "output_type": "execute_result",
          "data": {
            "text/plain": [
              "18252"
            ]
          },
          "metadata": {
            "tags": []
          },
          "execution_count": 16
        }
      ]
    },
    {
      "cell_type": "code",
      "metadata": {
        "id": "X8jYZZ5ryhBA",
        "colab": {
          "base_uri": "https://localhost:8080/",
          "height": 35
        },
        "outputId": "3ea97377-178d-47aa-e530-52c0365786f5"
      },
      "source": [
        "pigeonhole_from_pigeon({'Name': 'John Doe', 'LDS': True, 'Likes Cats': True, 'Born Before': True, 'Wears Contacts': False, 'Bites Fingernails': False, 'Lives Close': True})"
      ],
      "execution_count": null,
      "outputs": [
        {
          "output_type": "execute_result",
          "data": {
            "application/vnd.google.colaboratory.intrinsic+json": {
              "type": "string"
            },
            "text/plain": [
              "'J D:111001'"
            ]
          },
          "metadata": {
            "tags": []
          },
          "execution_count": 17
        }
      ]
    },
    {
      "cell_type": "markdown",
      "metadata": {
        "id": "jAQ55w0ODfet"
      },
      "source": [
        "#### Reasoning"
      ]
    },
    {
      "cell_type": "markdown",
      "metadata": {
        "id": "hEpxxRrO_6N5"
      },
      "source": [
        "Since there are 26 letters in the English alphabet, and since a person might not have a middle initial, the number of possible combinations of initials (excluding those with multiple first, middle, or last names) is $26 * 27 * 26 = 18252$ combinations. For each of the other six attributes, someone either has it or does not. Since there are two possible values for each, the total number of combinations of each attribute is $2*2*2*2*2*2 = 2^6 = 64$ combinations. The total number of pigeonholes (which in this case is the number of possible outputs from the second function) is $18252 * 64 = 1168128$. Since Idaho's population (the number of pigeons in this case) is greater than 1168128, there must be at least two people who share all of the mentioned traits."
      ]
    },
    {
      "cell_type": "markdown",
      "metadata": {
        "id": "JvMpIHMF0JuM"
      },
      "source": [
        "### Find Applications of the Pigeonhole Principle"
      ]
    },
    {
      "cell_type": "markdown",
      "metadata": {
        "id": "9aicPoZG0Lbj"
      },
      "source": [
        "Especially in graph theory --- there are many!"
      ]
    },
    {
      "cell_type": "markdown",
      "metadata": {
        "id": "Pr9H1hHoD67m"
      },
      "source": [
        "### Thoughts"
      ]
    },
    {
      "cell_type": "markdown",
      "metadata": {
        "id": "czU8JKsQD818"
      },
      "source": [
        "[This interactive webpage](https://d3gt.com/unit.html?pigeonhole) demonstrates the fact that there is no graph with two or more nodes where each node has a unique number of links. If a given graph has $n$ nodes, then the maximum number of links a given node can have is $n-1$, and the minimum is 0. However, a node with $n-1$ links cannot exist alongside a node with 0 links. Thus, there are $n-1$ possibilities for the number of links connected to a given node. Since there are $n$ nodes, at least two nodes must share their degree."
      ]
    },
    {
      "cell_type": "markdown",
      "metadata": {
        "id": "81dbKwHenxnT"
      },
      "source": [
        "## TODO My Report on What I Did and What I Learned"
      ]
    },
    {
      "cell_type": "markdown",
      "metadata": {
        "id": "C8BeiIern33B"
      },
      "source": [
        "### Fun\n"
      ]
    },
    {
      "cell_type": "markdown",
      "metadata": {
        "id": "ElukRLoezyxd"
      },
      "source": [
        "I solved a seemingly complicated problem (the problem from page 40) with a simple solution. I enjoyed being able to do that."
      ]
    },
    {
      "cell_type": "markdown",
      "metadata": {
        "id": "OzOkZ3son-u9"
      },
      "source": [
        "### New"
      ]
    },
    {
      "cell_type": "markdown",
      "metadata": {
        "id": "3-nYIdEUz4x5"
      },
      "source": [
        "I knew that if there were more pigeons than pigeonholes, there would be at least one hole with multiple pigeons. I had never thought to extend this to guaranteeing more than two pigeons within a pigeonhole (whatever the pigeons or holes might be). I can see myself using this fact in the future."
      ]
    },
    {
      "cell_type": "markdown",
      "metadata": {
        "id": "mJHvoj6GokaZ"
      },
      "source": [
        "### Meaningful\n"
      ]
    },
    {
      "cell_type": "markdown",
      "metadata": {
        "id": "XOxh3XFTz-6N"
      },
      "source": [
        "I learned a logical fact that seems so straightforward but that I had never thought to use."
      ]
    },
    {
      "cell_type": "markdown",
      "metadata": {
        "id": "_RBE03fhpNUG"
      },
      "source": [
        "### Other"
      ]
    },
    {
      "cell_type": "markdown",
      "metadata": {
        "id": "ME5X_4LwHRC0"
      },
      "source": [
        "#### Connections"
      ]
    },
    {
      "cell_type": "markdown",
      "metadata": {
        "id": "w2N3wZ3FHcx9"
      },
      "source": [
        "In a way, the *Pigeonhole Principle* reminded me of error handling. When handling an exception, you need to make sure to address all cases, no matter how likely. Similarly, the only way to apply the *Pigeonhole Principle* is by taking into account all possible \"cases\" that make up the pigeonholes."
      ]
    },
    {
      "cell_type": "markdown",
      "metadata": {
        "id": "x-o9HXP3HSvM"
      },
      "source": [
        "#### Collaborators"
      ]
    },
    {
      "cell_type": "markdown",
      "metadata": {
        "id": "Bd1MBJ12Hda1"
      },
      "source": [
        "I worked with Davis, Brayden, and Paul. Together, we read the article and completed the coding section of this assignment. Davis also showed an example application of the *Pigeonhole Principle* to graph theory."
      ]
    },
    {
      "cell_type": "markdown",
      "metadata": {
        "id": "WNsAW5uGHOHL"
      },
      "source": [
        "#### Thoughts on the Reading"
      ]
    },
    {
      "cell_type": "markdown",
      "metadata": {
        "id": "RFXzdlXx7MI9"
      },
      "source": [
        "To me, the *Pigeonhole Principle* seemed straightforward. If there are more pigeons than holes, then at least one pigeonhole needs to be shared. Extending this guarantees that there must be at least one hole with at least $n$ pigeons given that $(n-1)*h < p$ for some positive integer $n$, some number of holes $h$, and some number of pigeons $p$. It also makes sense that if one can reframe a problem in terms of pigeons and pigeonholes, then the *Pigeonhole Principle* applies.\n",
        "\n",
        "I like the implications of the *Pigeonhole Principle*. By knowing the population size and its number of features, one can make guarantees about the population. No probabilities need to be known, only an exhaustive list of features. Using the *Pigeonhole Principle*, one can show that what they are trying to prove is possible. It may also be effective when trying to argue that something is either impossible or guaranteed.\n",
        "\n",
        "The *Pigeonhole Principle*, however, does not specify *which* pigeonhole is shared. It only guarantees that there is one. There are two sides to this. On the one hand, it has limited use in problem-solving since the guarantees are so limited. On the other hand, since it does not test for more than it guarantees, one can apply the *Pigeonhole Principle* as a preliminary test to a large variety of problems. In either case, the *Pigeonhole Principle* will make a fine addition to my logical toolbelt."
      ]
    },
    {
      "cell_type": "markdown",
      "metadata": {
        "id": "qHAbp6KNHWn0"
      },
      "source": [
        "#### My Conversation with a Friend"
      ]
    },
    {
      "cell_type": "markdown",
      "metadata": {
        "id": "uJuzA-U_HeHM"
      },
      "source": [
        "After reading about the *Pigeonhole Principle*, I had a conversation with one of my friends where I tried explaining it. I was surprised by how quickly she seemed to pick it up. She did seem to struggle a bit with the difference between being able to guarantee something and saying something was likely. We spoke for a while. It finally clicked that although there might be people in Rexburg that share all of the properties mentioned in the problem on page 40, the population isn't large enough to make guarantees with the *Pigeonhole Principle* alone. However, she did remind me that if we found an example within Rexburg, it would trump any uncertainty."
      ]
    },
    {
      "cell_type": "markdown",
      "metadata": {
        "id": "Nrk-8EmgW4NP"
      },
      "source": [
        "## TODO What is True?\n",
        "Click on each warranted checkbox to toggle it to True (or back to False). \n",
        "\n",
        "NOTE: *This only works in Colab. If you run it in some other Jupyter notebook client/server environment you may have to change False to True (or vice versa) manually.*\n",
        "\n",
        "This self-assessment is subject to revision by a grader."
      ]
    },
    {
      "cell_type": "code",
      "metadata": {
        "id": "qGAjzgVRXR4M"
      },
      "source": [
        "#@markdown ## What is True about what I did?\n",
        "#@markdown ### I had fun.\n",
        "cb00 = True #@param {type:'boolean'}\n",
        "#@markdown ### I learned something new.\n",
        "cb01 = True #@param {type:'boolean'}\n",
        "#@markdown ### I achieved something meaningful, or something I can build upon at a later time.\n",
        "cb02 = True #@param {type:'boolean'}\n",
        "#@markdown ## What is True about my report?\n",
        "#@markdown ### I wrote a sufficient number of well-written sentences.\n",
        "cb03 = True #@param {type:'boolean'}\n",
        "#@markdown ### My report is free of mechanical infelicities.\n",
        "cb04 = True #@param {type:'boolean'}\n",
        "#@markdown ### I used Grammarly (or something better described in my report) to check for MIs.\n",
        "cb05 = True #@param {type:'boolean'}\n",
        "#@markdown ### I reported on any connections I found between these problems and something I already know. \n",
        "cb06 = True #@param {type:'boolean'}\n",
        "#@markdown ### I reported who were and what contribution each of my collaborators made.\n",
        "cb07 = True #@param {type:'boolean'}\n",
        "#@markdown ### I reported what I thought about the essay in general.\n",
        "cb08 = True #@param {type:'boolean'}\n",
        "#@markdown ### I reported what I thought about the certainty-not-chance feature of the pigeonhole principle.\n",
        "cb09 = True #@param {type:'boolean'}\n",
        "#@markdown ### I reported what I thought about the philosophical aspect of the pigeonhole principle per page 41.\n",
        "cb10 = True #@param {type:'boolean'}\n",
        "#@markdown ### I reported on how my discussion with a non-STEM non-classmate went.\n",
        "cb11 = True #@param {type:'boolean'}\n",
        "#@markdown ### I reported on how I grappled with the problem at the bottom of page 40.\n",
        "cb12 = True #@param {type:'boolean'}\n",
        "#@markdown ### I reported on the connection I found between the pigeonhole principle and graphs.\n",
        "cb13 = True #@param {type:'boolean'}\n",
        "#@markdown ## What is True about my code?\n",
        "#@markdown ### I implemented the first function (the one with the absurdly long name) in one or two lines of code.\n",
        "cb14 = True #@param {type:'boolean'}\n",
        "#@markdown ### I used either the sum rule and product rule together or else just the product rule in the first function.\n",
        "cb15 = True #@param {type:'boolean'}\n",
        "#@markdown ### The first function calculates and returns the correct value (see Exercise 250).\n",
        "cb16 = True #@param {type:'boolean'}\n",
        "#@markdown ### The second function inputs a dictionary like {'Name': 'John Doe', 'LDS': True, 'Likes Cats': True, 'Born Before': True, 'Wears Contacts': False, 'Bites Fingernails': False, 'Lives Close': True} and returns the string 'J D:111001'.\n",
        "cb17 = True #@param {type:'boolean'}\n",
        "#@markdown ### The second function calls the first function with the appropriate argument and uses the result.\n",
        "cb18 = True #@param {type:'boolean'}\n",
        "#@markdown ### The second function includes an assert that the length of the string being returned is 10.\n",
        "cb19 = True #@param {type:'boolean'}\n",
        "#@markdown ### The second function includes an assert that the cardinality of its codomain (set of possible return values) is over a million.\n",
        "cb20 = True #@param {type:'boolean'}"
      ],
      "execution_count": null,
      "outputs": []
    }
  ]
}