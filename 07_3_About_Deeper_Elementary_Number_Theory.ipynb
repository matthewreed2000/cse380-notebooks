{
  "nbformat": 4,
  "nbformat_minor": 0,
  "metadata": {
    "colab": {
      "name": " 07_3_About_Deeper_Elementary_Number_Theory.ipynb",
      "provenance": [],
      "include_colab_link": true
    },
    "kernelspec": {
      "name": "python3",
      "display_name": "Python 3"
    }
  },
  "cells": [
    {
      "cell_type": "markdown",
      "metadata": {
        "id": "view-in-github",
        "colab_type": "text"
      },
      "source": [
        "<a href=\"https://colab.research.google.com/github/matthewreed2000/cse380-notebooks/blob/master/07_3_About_Deeper_Elementary_Number_Theory.ipynb\" target=\"_parent\"><img src=\"https://colab.research.google.com/assets/colab-badge.svg\" alt=\"Open In Colab\"/></a>"
      ]
    },
    {
      "cell_type": "markdown",
      "metadata": {
        "id": "fKBSJ5Hh6UMv"
      },
      "source": [
        "# About Deeper Elementary Number Theory\n",
        "## Class Directed Learning\n",
        "### Due: Wednesday, 17 February 2021, 11:59 pm\n",
        "\n",
        "*Matthew Reed*\n",
        "\n",
        "In collaboration with:\n",
        "- Gage Briggs"
      ]
    },
    {
      "cell_type": "markdown",
      "metadata": {
        "id": "yx-XMrWE6hEw"
      },
      "source": [
        "## Read and Ponder\n",
        "https://byui-cse.github.io/cse380-course/about-deeper-elementary-number-theory.pdf\n",
        "\n",
        "Put your answers in cells you will add below.\n",
        "\n",
        "Above and beyond behavior: Incorporate the material in the PDF into this notebook."
      ]
    },
    {
      "cell_type": "markdown",
      "metadata": {
        "id": "E33TVMz-mo9s"
      },
      "source": [
        "## The Fundamental Theorem of Arithmetic"
      ]
    },
    {
      "cell_type": "markdown",
      "metadata": {
        "id": "aJbje_RuozJ9"
      },
      "source": [
        "Let $P$ = the set of prime numbers, $N$ = the set of natural (nonnegative) numbers, and $Z^+$ = the set of positive integers. If $\\mathbf{L}^+(P,N)$ is the set of function $f:P \\rightarrow N$ with the property that\n",
        "\n",
        "$$\n",
        "\\exists n \\in N\\ \\forall p \\in P\\ [p \\ge n \\Rightarrow f(p) = 0],\n",
        "$$\n",
        "\n",
        "then there exists a bijection $Z^+ \\rightarrow \\mathbf{L}^+(P,N)$ such that if $z \\rightarrow f$ then\n",
        "\n",
        "$$\n",
        "z = \\prod_{p \\in P} p^{f(p)}.\n",
        "$$"
      ]
    },
    {
      "cell_type": "markdown",
      "metadata": {
        "id": "jW2FDT2KqqCp"
      },
      "source": [
        "### Donald Knuth, writing with clarity what this is trying to say"
      ]
    },
    {
      "cell_type": "markdown",
      "metadata": {
        "id": "oqMy_qNvqvI2"
      },
      "source": [
        "According to the Fundamental Theorem of Arithmetic, each positive integer $n$ can be expressed in the form\n",
        "\n",
        "$$\n",
        "n = 2^{e_2}3^{e_3}5^{e_5}7^{e_7}11^{e_11}... = \\prod_{p\\ \\bf{prime}} p^{e_p},\n",
        "$$\n",
        "\n",
        "where the exponents $e_2$, $e_3$, ... are uniquely determined nonnegative integers, and where all but a finite number of the exponents are zero."
      ]
    },
    {
      "cell_type": "markdown",
      "metadata": {
        "id": "qCT2dOJBK7VQ"
      },
      "source": [
        "### Thoughts"
      ]
    },
    {
      "cell_type": "markdown",
      "metadata": {
        "id": "rFV1bbBRJL1n"
      },
      "source": [
        "Donald Knuth's restatement works, since it simply replaces $f(p)$ with $e_p$, and it replaces the constraint $\\exists n \\in N\\ \\forall p \\in P\\ [p \\ge n \\Rightarrow f(p) = 0]$ with the English phrase \"where the exponents $e_2$, $e_3$, . . . are uniquely determined nonnegative integers, and where all but a finite number of the exponents are zero.\""
      ]
    },
    {
      "cell_type": "markdown",
      "metadata": {
        "id": "9gGiKdfQK6ta"
      },
      "source": [
        "## TODO Explore Fermat's Little Theorem Further"
      ]
    },
    {
      "cell_type": "markdown",
      "metadata": {
        "id": "UnKXu9AErp6m"
      },
      "source": [
        "### Answer to Yesterday's DPC\n",
        "\n",
        "| | |\n",
        "| :- | :-: |\n",
        "| 0 | 1 |\n",
        "| 1 | 1 1 |\n",
        "| **2** | 1 **2** 1 |\n",
        "| **3** | 1 **3 3 1** |\n",
        "| 4 | 1 4 6 4 1 |\n",
        "| **5** | 1 **5 10 10 5 1** |\n",
        "| 6 | 1 6 15 20 15 6 1 |\n",
        "| **7** | 1 **7 21 35 35 21 7 1** |\n",
        "| 8 | 1 8 28 56 70 56 28 8 1 |\n",
        "| 9 | 1 9 36 84 126 126 84 36 9 1 |\n",
        "| 10 | 1 10 45 120 210 252 210 120 45 10 1 |\n",
        "| **11** | 1 **11 55 165 330 462 462 330 165 55 11 1** |\n",
        "| 12 | 1 12 66 220 495 792 924 792 495 220 66 12 1 |\n",
        "| **13** | 1 **13 78 286 715 1287 1716 1716 1287 715 286 78 13 1** |\n",
        "| 14 | 1 14 91 364 1001 2002 3003 3432 3003 2002 1001 364 91 14 1 |\n",
        "| 15 | 1 15 105 455 1365 3003 5005 6435 6435 5005 3003 1365 455 105 15 1 |\n",
        "| 16 | 1 16 120 560 1820 4368 8008 11440 12870 11440 8008 4368 1820 560 120 16 1 |\n",
        "| **17** | 1 **17 136 680 2380 6188 12376 19448 24310 24310 19448 12376 6188 2380 680 136 17 1** |"
      ]
    },
    {
      "cell_type": "markdown",
      "metadata": {
        "id": "7fGdBP9QtZJS"
      },
      "source": [
        "Step number 7 in the FLT proof by induction is the answer — only prime-numbered rows in Pascal’s triangle show the pattern. The step is correctly rendered as:\n",
        "\n",
        "<center>In terms of division by $N$, the ${N}\\choose{K}$ terms can’t matter, since, except for the first and last 1’s in each row — ${N}\\choose{0}$ and ${N}\\choose{N}$ — $N$ divides ${N}\\choose{K}$ <strong>when $N$ is prime.</strong></center>"
      ]
    },
    {
      "cell_type": "markdown",
      "metadata": {
        "id": "PqnAALCPuyV5"
      },
      "source": [
        "### Explore Another Proof"
      ]
    },
    {
      "cell_type": "markdown",
      "metadata": {
        "id": "wl6xVXAKu4AG"
      },
      "source": [
        "Here is another proof of Fermat's Little Theorem:\n",
        "\n",
        "1. Suppose we have beads in $X$ different colors, and we wish to make bracelets using exactly $N$ beads.\n",
        "2. First we put $N$ beads on a string.\n",
        "3. Since each of the beads can be chosen in $X$ ways, by the product rule there are $X^N$ possible strings.\n",
        "4. For each of the $X$ colors, there is one string entirely of that color, which we throw away, leaving $X^N - X$ strings.\n",
        "5. We join the two ends of each of these remaining strings to form bracelets.\n",
        "6. We observe that if two strings differ only by a cyclic permutation of the beads, the resulting bracelets will be indistinguishable.\n",
        "7. There are $N$ cyclic permutations of the $N$ beads on a string.\n",
        "8. Therefore the number of distinguishable bracelets is $(X^N - X)/N$.\n",
        "9. Therefore $(X^N - X)/N$ must be an integer.\n",
        "10. Therefore $X^N - X$ is divisible by $N$.\n",
        "11. Q.E.D.\n",
        "\n",
        "The hypothesis ($N$ is prime) is implicitly used in one step of this proof. In other words, if “Blah” is what the step says, to be complete it should say “Blah, since $N$ is prime.” Which step is it?\n",
        "\n",
        "Find an explanation of this proof online in written or video form."
      ]
    },
    {
      "cell_type": "markdown",
      "metadata": {
        "id": "9Y01GncCroKg"
      },
      "source": [
        "### Thoughts"
      ]
    },
    {
      "cell_type": "markdown",
      "metadata": {
        "id": "gNIOHBu8K-b4"
      },
      "source": [
        "Step #7 requires the additional statement: \"since $N$ is prime.\" If $N$ were not prime, then a cycle could exist for every $N/a$ beads where $a$ is a non-trivial factor of $N$."
      ]
    },
    {
      "cell_type": "markdown",
      "metadata": {
        "id": "DN1L2psxLuvM"
      },
      "source": [
        "## TODO Explore Primes and Probability Further"
      ]
    },
    {
      "cell_type": "markdown",
      "metadata": {
        "id": "8xO0rCInvyfc"
      },
      "source": [
        "You have already seen one connection between **coprimality** and probability in the determination that the probability that two randomly chosen positive integers are coprime being the reciprocal $(6/π^2)$ of the sum of the reciprocals of the squares of the positive integers $(π^2/6)$.\n",
        "\n",
        "There are other connections between primality and probability!\n",
        "\n",
        "A **probabilistic algorithm** is an algorithm that might give the incorrect answer, but only with small probability. For example, there are good probabilistic algorithms that test whether or not a natural number is prime. Many of these are based on a **deterministic** test using **Fermat’s little theorem**, which, going back to the first statement of it, says that if $N$ is prime, then $N$ divides $X^N - X$. Which implies that if $N$ doesn’t divide $X^N - X$ for some $X$, then $N$ **can’t** be prime.\n",
        "\n",
        "Unfortunately, this test doesn’t always work, because **pseudoprimes** fool it.\n",
        "\n",
        "In the book is a brief mention of the **Prime Number Theorem**. This theorem states that the number of primes not exceeding (less than or equal to) the number **n** is approximately equal to n / log n. Can you use this theorem to estimate the probability that a randomly-chosen **k**-digit number is prime?"
      ]
    },
    {
      "cell_type": "markdown",
      "metadata": {
        "id": "MokA2V9uvwp2"
      },
      "source": [
        "### Thoughts"
      ]
    },
    {
      "cell_type": "markdown",
      "metadata": {
        "id": "dYRn8HEILwSL"
      },
      "source": [
        "If $n$ is a positive $k$-digit integer, and there are approximately $\\frac{n}{\\log(n)}$ primes less than or equal to $n$, then the probability that a given positive integer less than or equal to $n$ is prime is:\n",
        "\n",
        "$$\n",
        "p(\\text{prime}) \\approx \\frac{\\frac{n}{\\log(n)}}{n}\\\\\n",
        "= \\frac{1}{\\log(n)}\n",
        "$$\n",
        "\n",
        "Since $n$ is a $k$-digit integer, $\\lceil\\log(n + 1)\\rceil = k$.\n",
        "\n",
        "$$\n",
        "p(\\text{prime}) \\approx \\frac{1}{k}\n",
        "$$\n",
        "\n",
        "If we are to restrict this to only $k$-digit integers (rather than any integer less than $n$), then we need to remove the $(k-1)$-digit integers and lower. In other words, the probability of a $k$-digit integer is prime would be the probability that the integer is less than the upper-bound of $k$-digit numbers and not less than the upper-bound of $(k-1)$-digit numbers.\n",
        "\n",
        "$$\n",
        "p(k\\text{-digit prime}) \\approx \\frac{1}{k}(1 - \\frac{1}{k-1})\\\\\n",
        "= \\frac{1}{k}(\\frac{k-2}{k-1})\\\\\n",
        "= \\frac{k-2}{k^2-k}\n",
        "$$"
      ]
    }
  ]
}