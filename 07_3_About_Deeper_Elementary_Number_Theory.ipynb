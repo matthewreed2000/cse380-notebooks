{
  "nbformat": 4,
  "nbformat_minor": 0,
  "metadata": {
    "colab": {
      "name": " 07_3_About_Deeper_Elementary_Number_Theory.ipynb",
      "provenance": [],
      "include_colab_link": true
    },
    "kernelspec": {
      "name": "python3",
      "display_name": "Python 3"
    }
  },
  "cells": [
    {
      "cell_type": "markdown",
      "metadata": {
        "id": "view-in-github",
        "colab_type": "text"
      },
      "source": [
        "<a href=\"https://colab.research.google.com/github/matthewreed2000/cse380-notebooks/blob/master/07_3_About_Deeper_Elementary_Number_Theory.ipynb\" target=\"_parent\"><img src=\"https://colab.research.google.com/assets/colab-badge.svg\" alt=\"Open In Colab\"/></a>"
      ]
    },
    {
      "cell_type": "markdown",
      "metadata": {
        "id": "fKBSJ5Hh6UMv"
      },
      "source": [
        "# About Deeper Elementary Number Theory\n",
        "## Class Directed Learning\n",
        "### Due: Wednesday, 17 February 2021, 11:59 pm\n",
        "\n",
        "*Matthew Reed*\n",
        "\n",
        "In collaboration with:\n",
        "- Gage Briggs"
      ]
    },
    {
      "cell_type": "markdown",
      "metadata": {
        "id": "yx-XMrWE6hEw"
      },
      "source": [
        "## Read and Ponder\n",
        "https://byui-cse.github.io/cse380-course/about-deeper-elementary-number-theory.pdf\n",
        "\n",
        "Put your answers in cells you will add below.\n",
        "\n",
        "Above and beyond behavior: Incorporate the material in the PDF into this notebook."
      ]
    },
    {
      "cell_type": "markdown",
      "metadata": {
        "id": "qCT2dOJBK7VQ"
      },
      "source": [
        "## #1"
      ]
    },
    {
      "cell_type": "markdown",
      "metadata": {
        "id": "rFV1bbBRJL1n"
      },
      "source": [
        "Donald Knuth's restatement works, since it simply replaces $f(p)$ with $e_p$, and it replaces the constraint $∃n ∈ N ∀p ∈ P [p ≥ n ⇒ f(p) = 0]$ with the English phrase \"where the exponents $e_2$, $e_3$, . . . are uniquely determined nonnegative integers, and where all but a finite number of the exponents are zero.\""
      ]
    },
    {
      "cell_type": "markdown",
      "metadata": {
        "id": "9gGiKdfQK6ta"
      },
      "source": [
        "## #2"
      ]
    },
    {
      "cell_type": "markdown",
      "metadata": {
        "id": "gNIOHBu8K-b4"
      },
      "source": [
        "Step #7 requires the additional statement: \"since $N$ is prime.\" If $N$ were not prime, then a cycle could exist for every $N/a$ beads where $a$ is a non-trivial factor of $N$."
      ]
    },
    {
      "cell_type": "markdown",
      "metadata": {
        "id": "DN1L2psxLuvM"
      },
      "source": [
        "## #3"
      ]
    },
    {
      "cell_type": "markdown",
      "metadata": {
        "id": "dYRn8HEILwSL"
      },
      "source": [
        "If $n$ is a $k$-digit number, and there are approximately $\\frac{n}{\\log(n)}$ primes less than or equal to $n$, then the probability that a given number less than or equal to $n$ is prime is:\n",
        "\n",
        "$$\n",
        "p(prime) \\approx \\frac{\\frac{n}{\\log(n)}}{n}\\\\\n",
        "= \\frac{1}{\\log(n)}\n",
        "$$\n",
        "\n",
        "Since $n$ is a $k$-digit number, $\\lceil\\log(n + 1)\\rceil = k$.\n",
        "\n",
        "$$\n",
        "p(prime) \\approx \\frac{1}{k}\n",
        "$$"
      ]
    },
    {
      "cell_type": "code",
      "metadata": {
        "id": "BNuCit3PJxpZ"
      },
      "source": [
        ""
      ],
      "execution_count": null,
      "outputs": []
    }
  ]
}